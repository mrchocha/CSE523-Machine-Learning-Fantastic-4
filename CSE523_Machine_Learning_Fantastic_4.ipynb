{
  "nbformat": 4,
  "nbformat_minor": 0,
  "metadata": {
    "colab": {
      "name": "CSE523-Machine-Learning-Fantastic-4.ipynb",
      "provenance": [],
      "collapsed_sections": [],
      "toc_visible": true,
      "include_colab_link": true
    },
    "kernelspec": {
      "name": "python3",
      "display_name": "Python 3"
    },
    "language_info": {
      "name": "python"
    }
  },
  "cells": [
    {
      "cell_type": "markdown",
      "metadata": {
        "id": "view-in-github",
        "colab_type": "text"
      },
      "source": [
        "<a href=\"https://colab.research.google.com/github/mrchocha/CSE523-Machine-Learning-Fantastic-4/blob/main/CSE523_Machine_Learning_Fantastic_4.ipynb\" target=\"_parent\"><img src=\"https://colab.research.google.com/assets/colab-badge.svg\" alt=\"Open In Colab\"/></a>"
      ]
    },
    {
      "cell_type": "markdown",
      "metadata": {
        "id": "zG7Z3cByM0Pp"
      },
      "source": [
        "## Importing Libraries"
      ]
    },
    {
      "cell_type": "code",
      "metadata": {
        "colab": {
          "base_uri": "https://localhost:8080/"
        },
        "id": "HVJUOnYhfPSX",
        "outputId": "646c81b4-026b-4263-8a16-a79aa4facb3e"
      },
      "source": [
        "!pip install pmdarima\n",
        "!pip install yfinance"
      ],
      "execution_count": null,
      "outputs": [
        {
          "output_type": "stream",
          "text": [
            "Collecting pmdarima\n",
            "\u001b[?25l  Downloading https://files.pythonhosted.org/packages/e4/a8/bdf15174e35d072e145d16388b1d3bc7605b752610170cb022a290411427/pmdarima-1.8.0-cp37-cp37m-manylinux1_x86_64.whl (1.5MB)\n",
            "\u001b[K     |████████████████████████████████| 1.5MB 8.4MB/s \n",
            "\u001b[?25hRequirement already satisfied: setuptools!=50.0.0,>=38.6.0 in /usr/local/lib/python3.7/dist-packages (from pmdarima) (54.2.0)\n",
            "Requirement already satisfied: joblib>=0.11 in /usr/local/lib/python3.7/dist-packages (from pmdarima) (1.0.1)\n",
            "Requirement already satisfied: numpy>=1.17.3 in /usr/local/lib/python3.7/dist-packages (from pmdarima) (1.19.5)\n",
            "Requirement already satisfied: scipy>=1.3.2 in /usr/local/lib/python3.7/dist-packages (from pmdarima) (1.4.1)\n",
            "Requirement already satisfied: urllib3 in /usr/local/lib/python3.7/dist-packages (from pmdarima) (1.24.3)\n",
            "Collecting Cython<0.29.18,>=0.29\n",
            "\u001b[?25l  Downloading https://files.pythonhosted.org/packages/dc/6c/198da24bf0a1d5b5ee6119e891c5300bb1b0b8904832fac9ff62d4e381c9/Cython-0.29.17-cp37-cp37m-manylinux1_x86_64.whl (2.1MB)\n",
            "\u001b[K     |████████████████████████████████| 2.1MB 38.2MB/s \n",
            "\u001b[?25hCollecting statsmodels!=0.12.0,>=0.11\n",
            "\u001b[?25l  Downloading https://files.pythonhosted.org/packages/da/69/8eef30a6237c54f3c0b524140e2975f4b1eea3489b45eb3339574fc8acee/statsmodels-0.12.2-cp37-cp37m-manylinux1_x86_64.whl (9.5MB)\n",
            "\u001b[K     |████████████████████████████████| 9.5MB 46.7MB/s \n",
            "\u001b[?25hRequirement already satisfied: pandas>=0.19 in /usr/local/lib/python3.7/dist-packages (from pmdarima) (1.1.5)\n",
            "Requirement already satisfied: scikit-learn>=0.22 in /usr/local/lib/python3.7/dist-packages (from pmdarima) (0.22.2.post1)\n",
            "Requirement already satisfied: patsy>=0.5 in /usr/local/lib/python3.7/dist-packages (from statsmodels!=0.12.0,>=0.11->pmdarima) (0.5.1)\n",
            "Requirement already satisfied: pytz>=2017.2 in /usr/local/lib/python3.7/dist-packages (from pandas>=0.19->pmdarima) (2018.9)\n",
            "Requirement already satisfied: python-dateutil>=2.7.3 in /usr/local/lib/python3.7/dist-packages (from pandas>=0.19->pmdarima) (2.8.1)\n",
            "Requirement already satisfied: six in /usr/local/lib/python3.7/dist-packages (from patsy>=0.5->statsmodels!=0.12.0,>=0.11->pmdarima) (1.15.0)\n",
            "Installing collected packages: Cython, statsmodels, pmdarima\n",
            "  Found existing installation: Cython 0.29.22\n",
            "    Uninstalling Cython-0.29.22:\n",
            "      Successfully uninstalled Cython-0.29.22\n",
            "  Found existing installation: statsmodels 0.10.2\n",
            "    Uninstalling statsmodels-0.10.2:\n",
            "      Successfully uninstalled statsmodels-0.10.2\n",
            "Successfully installed Cython-0.29.17 pmdarima-1.8.0 statsmodels-0.12.2\n",
            "Collecting yfinance\n",
            "  Downloading https://files.pythonhosted.org/packages/a7/ee/315752b9ef281ba83c62aa7ec2e2074f85223da6e7e74efb4d3e11c0f510/yfinance-0.1.59.tar.gz\n",
            "Requirement already satisfied: pandas>=0.24 in /usr/local/lib/python3.7/dist-packages (from yfinance) (1.1.5)\n",
            "Requirement already satisfied: numpy>=1.15 in /usr/local/lib/python3.7/dist-packages (from yfinance) (1.19.5)\n",
            "Requirement already satisfied: requests>=2.20 in /usr/local/lib/python3.7/dist-packages (from yfinance) (2.23.0)\n",
            "Requirement already satisfied: multitasking>=0.0.7 in /usr/local/lib/python3.7/dist-packages (from yfinance) (0.0.9)\n",
            "Collecting lxml>=4.5.1\n",
            "\u001b[?25l  Downloading https://files.pythonhosted.org/packages/cf/4d/6537313bf58fe22b508f08cf3eb86b29b6f9edf68e00454224539421073b/lxml-4.6.3-cp37-cp37m-manylinux1_x86_64.whl (5.5MB)\n",
            "\u001b[K     |████████████████████████████████| 5.5MB 10.7MB/s \n",
            "\u001b[?25hRequirement already satisfied: python-dateutil>=2.7.3 in /usr/local/lib/python3.7/dist-packages (from pandas>=0.24->yfinance) (2.8.1)\n",
            "Requirement already satisfied: pytz>=2017.2 in /usr/local/lib/python3.7/dist-packages (from pandas>=0.24->yfinance) (2018.9)\n",
            "Requirement already satisfied: certifi>=2017.4.17 in /usr/local/lib/python3.7/dist-packages (from requests>=2.20->yfinance) (2020.12.5)\n",
            "Requirement already satisfied: urllib3!=1.25.0,!=1.25.1,<1.26,>=1.21.1 in /usr/local/lib/python3.7/dist-packages (from requests>=2.20->yfinance) (1.24.3)\n",
            "Requirement already satisfied: idna<3,>=2.5 in /usr/local/lib/python3.7/dist-packages (from requests>=2.20->yfinance) (2.10)\n",
            "Requirement already satisfied: chardet<4,>=3.0.2 in /usr/local/lib/python3.7/dist-packages (from requests>=2.20->yfinance) (3.0.4)\n",
            "Requirement already satisfied: six>=1.5 in /usr/local/lib/python3.7/dist-packages (from python-dateutil>=2.7.3->pandas>=0.24->yfinance) (1.15.0)\n",
            "Building wheels for collected packages: yfinance\n",
            "  Building wheel for yfinance (setup.py) ... \u001b[?25l\u001b[?25hdone\n",
            "  Created wheel for yfinance: filename=yfinance-0.1.59-py2.py3-none-any.whl size=23442 sha256=7342f9dab41a6784f9c25d9040638093ac32e1e64de8c05c68d6d95e33930f3d\n",
            "  Stored in directory: /root/.cache/pip/wheels/f8/2a/0f/4b5a86e1d52e451757eb6bc17fd899629f0925c777741b6d04\n",
            "Successfully built yfinance\n",
            "Installing collected packages: lxml, yfinance\n",
            "  Found existing installation: lxml 4.2.6\n",
            "    Uninstalling lxml-4.2.6:\n",
            "      Successfully uninstalled lxml-4.2.6\n",
            "Successfully installed lxml-4.6.3 yfinance-0.1.59\n"
          ],
          "name": "stdout"
        }
      ]
    },
    {
      "cell_type": "code",
      "metadata": {
        "colab": {
          "base_uri": "https://localhost:8080/"
        },
        "id": "aiVszWtlM3HV",
        "outputId": "9c6af1ec-8fa9-4e23-9a23-eaa5b4de4e75"
      },
      "source": [
        "import nltk\n",
        "from wordcloud import WordCloud\n",
        "import pandas as pd\n",
        "import numpy as np\n",
        "import re\n",
        "import datetime\n",
        "import matplotlib.pyplot as plt\n",
        "from sklearn.model_selection import train_test_split\n",
        "from sklearn.naive_bayes import MultinomialNB\n",
        "from sklearn.metrics import accuracy_score, confusion_matrix, classification_report, mean_squared_error\n",
        "from sklearn.feature_extraction.text import CountVectorizer,TfidfVectorizer\n",
        "from sklearn.linear_model import LinearRegression\n",
        "from nltk import FreqDist\n",
        "from nltk.corpus import stopwords\n",
        "from nltk.stem.porter import PorterStemmer\n",
        "from nltk.stem import WordNetLemmatizer\n",
        "from nltk import ngrams,everygrams\n",
        "import yfinance as yf\n",
        "from statsmodels.tsa.stattools import adfuller, grangercausalitytests\n",
        "from statsmodels.tsa.seasonal import seasonal_decompose\n",
        "from statsmodels.tsa.arima_model import ARIMA\n",
        "from pmdarima.arima import auto_arima\n",
        "import seaborn as sn\n",
        "\n",
        "nltk.download('wordnet')\n",
        "nltk.download(\"punkt\")\n",
        "nltk.download('stopwords')"
      ],
      "execution_count": null,
      "outputs": [
        {
          "output_type": "stream",
          "text": [
            "[nltk_data] Downloading package wordnet to /root/nltk_data...\n",
            "[nltk_data]   Unzipping corpora/wordnet.zip.\n",
            "[nltk_data] Downloading package punkt to /root/nltk_data...\n",
            "[nltk_data]   Unzipping tokenizers/punkt.zip.\n",
            "[nltk_data] Downloading package stopwords to /root/nltk_data...\n",
            "[nltk_data]   Unzipping corpora/stopwords.zip.\n"
          ],
          "name": "stdout"
        },
        {
          "output_type": "execute_result",
          "data": {
            "text/plain": [
              "True"
            ]
          },
          "metadata": {
            "tags": []
          },
          "execution_count": 2
        }
      ]
    },
    {
      "cell_type": "markdown",
      "metadata": {
        "id": "CevWzgvtQoPj"
      },
      "source": [
        "## Tweets Extraction"
      ]
    },
    {
      "cell_type": "code",
      "metadata": {
        "colab": {
          "base_uri": "https://localhost:8080/",
          "height": 549
        },
        "id": "pi-SSNa9QssT",
        "outputId": "5b3a7fb2-59c6-425e-e68f-7640380daf4d"
      },
      "source": [
        "from google.colab import drive\n",
        "# Mounting Drive\n",
        "drive.mount('/content/drive')\n",
        "\n",
        "# Changing Directory\n",
        "% cd /content/drive/MyDrive/ML_Project\n",
        "\n",
        "# Reading CSV File\n",
        "data = pd.read_csv('MSFT_sorted.csv', encoding='latin-1')\n",
        "\n",
        "# Declaring columns\n",
        "data.columns = ['Unnamed: 0', 'Url', 'time_stamp', 'ids', 'text', 'subjectivity', 'target', 'label']\n",
        "\n",
        "data.head()"
      ],
      "execution_count": null,
      "outputs": [
        {
          "output_type": "stream",
          "text": [
            "Mounted at /content/drive\n",
            "/content/drive/MyDrive/ML_Project\n"
          ],
          "name": "stdout"
        },
        {
          "output_type": "execute_result",
          "data": {
            "text/html": [
              "<div>\n",
              "<style scoped>\n",
              "    .dataframe tbody tr th:only-of-type {\n",
              "        vertical-align: middle;\n",
              "    }\n",
              "\n",
              "    .dataframe tbody tr th {\n",
              "        vertical-align: top;\n",
              "    }\n",
              "\n",
              "    .dataframe thead th {\n",
              "        text-align: right;\n",
              "    }\n",
              "</style>\n",
              "<table border=\"1\" class=\"dataframe\">\n",
              "  <thead>\n",
              "    <tr style=\"text-align: right;\">\n",
              "      <th></th>\n",
              "      <th>Unnamed: 0</th>\n",
              "      <th>Url</th>\n",
              "      <th>time_stamp</th>\n",
              "      <th>ids</th>\n",
              "      <th>text</th>\n",
              "      <th>subjectivity</th>\n",
              "      <th>target</th>\n",
              "      <th>label</th>\n",
              "    </tr>\n",
              "  </thead>\n",
              "  <tbody>\n",
              "    <tr>\n",
              "      <th>0</th>\n",
              "      <td>0</td>\n",
              "      <td>https://twitter.com/jameyjeff/status/27287474960</td>\n",
              "      <td>2010-10-13 23:37:30+00:00</td>\n",
              "      <td>27287474960</td>\n",
              "      <td>Windows phone 7 app store developers can post ...</td>\n",
              "      <td>0.800000</td>\n",
              "      <td>0.400000</td>\n",
              "      <td>Positive</td>\n",
              "    </tr>\n",
              "    <tr>\n",
              "      <th>1</th>\n",
              "      <td>1</td>\n",
              "      <td>https://twitter.com/AlexanderForex/status/2728...</td>\n",
              "      <td>2010-10-13 23:30:56+00:00</td>\n",
              "      <td>27286960834</td>\n",
              "      <td>: Roy Bostock $yhoo's Chair said $msft had 2 p...</td>\n",
              "      <td>0.000000</td>\n",
              "      <td>0.000000</td>\n",
              "      <td>Neutral</td>\n",
              "    </tr>\n",
              "    <tr>\n",
              "      <th>2</th>\n",
              "      <td>2</td>\n",
              "      <td>https://twitter.com/Dvolatility/status/2728652...</td>\n",
              "      <td>2010-10-13 23:25:27+00:00</td>\n",
              "      <td>27286528379</td>\n",
              "      <td>: Roy Bostock $yhoo's Chair said $msft had to ...</td>\n",
              "      <td>0.000000</td>\n",
              "      <td>0.000000</td>\n",
              "      <td>Neutral</td>\n",
              "    </tr>\n",
              "    <tr>\n",
              "      <th>3</th>\n",
              "      <td>3</td>\n",
              "      <td>https://twitter.com/jhondroulis/status/2728172...</td>\n",
              "      <td>2010-10-13 22:22:31+00:00</td>\n",
              "      <td>27281727866</td>\n",
              "      <td>Bing makes sense. Remember when $MSFT investe...</td>\n",
              "      <td>0.000000</td>\n",
              "      <td>0.000000</td>\n",
              "      <td>Neutral</td>\n",
              "    </tr>\n",
              "    <tr>\n",
              "      <th>4</th>\n",
              "      <td>4</td>\n",
              "      <td>https://twitter.com/outsizedreturn/status/2728...</td>\n",
              "      <td>2010-10-13 22:16:58+00:00</td>\n",
              "      <td>27281314383</td>\n",
              "      <td>Florida Hedge Funds Facebook Expands Microsoft...</td>\n",
              "      <td>0.066667</td>\n",
              "      <td>0.033333</td>\n",
              "      <td>Positive</td>\n",
              "    </tr>\n",
              "  </tbody>\n",
              "</table>\n",
              "</div>"
            ],
            "text/plain": [
              "  Unnamed: 0  ...     label\n",
              "0          0  ...  Positive\n",
              "1          1  ...   Neutral\n",
              "2          2  ...   Neutral\n",
              "3          3  ...   Neutral\n",
              "4          4  ...  Positive\n",
              "\n",
              "[5 rows x 8 columns]"
            ]
          },
          "metadata": {
            "tags": []
          },
          "execution_count": 3
        }
      ]
    },
    {
      "cell_type": "markdown",
      "metadata": {
        "id": "3rsfieUlMZT0"
      },
      "source": [
        "## Tweet Data Cleaning and Preprocessing"
      ]
    },
    {
      "cell_type": "markdown",
      "metadata": {
        "id": "k8ujYiOdSgCQ"
      },
      "source": [
        "### Function Declaration"
      ]
    },
    {
      "cell_type": "code",
      "metadata": {
        "id": "hdRgKiBMSfPJ"
      },
      "source": [
        "#function for cleaning the tweets\n",
        "def cleantweet(text_data):\n",
        "  text_data = str(text_data)\n",
        "  text_data = re.sub(r'@[A-Za-z0-9]+', '',text_data)  #remove mentioned peoples\n",
        "  text_data = re.sub(r'#','',text_data)             #remove hastags\n",
        "  text_data = re.sub(r'RT[\\s]+','',text_data)       #remove RT\n",
        "  text_data = re.sub(r'https?:\\/\\/\\S+','',text_data)  #remove urls\n",
        "  return text_data\n",
        "\n",
        "#remove Stopwords from the tweet\n",
        "def remove_stopwords(str):\n",
        "  str_to_words = nltk.tokenize.word_tokenize(str)\n",
        "  stoplist=stopwords.words(\"english\")\n",
        "  str_without_stopwords = \"\"\n",
        "  for word in str_to_words:\n",
        "    if word not in stoplist:\n",
        "      str_without_stopwords = str_without_stopwords + word + \" \"\n",
        "  \n",
        "  str_ = str_without_stopwords\n",
        "  return str_\n",
        "\n",
        "#remove the Punctuation marks and special characters\n",
        "def remove_punctuation(str):\n",
        "  list_punc = ['.',',',':',';','?','(',')','[',']','\"','\\'','-','/','!','$']\n",
        "  str_without_punc = \"\"\n",
        "  for ch in str:\n",
        "    if ch not in list_punc:\n",
        "      str_without_punc = str_without_punc + ch \n",
        "\n",
        "  str_ = str_without_punc\n",
        "  return str_\n",
        "\n",
        "#Spell correction and lemmatization\n",
        "def spell_correction_lemma_stem(str):\n",
        "  str_to_words = nltk.tokenize.word_tokenize(str)\n",
        "  str_spell_correct = \"\"\n",
        "  spell = SpellChecker()\n",
        "  stemmer = PorterStemmer()\n",
        "  wnl = WordNetLemmatizer()\n",
        "  #print(wnl.lemmatize(\"runs\"))\n",
        "  #print(stemmer.stem(\"rans\"))\n",
        "  for word in str_to_words:\n",
        "    str_spell_correct = str_spell_correct + wnl.lemmatize(spell.correction(word)) + \" \"\n",
        "\n",
        "  str_ = str_spell_correct\n",
        "  return str_"
      ],
      "execution_count": null,
      "outputs": []
    },
    {
      "cell_type": "code",
      "metadata": {
        "colab": {
          "base_uri": "https://localhost:8080/",
          "height": 534
        },
        "id": "4J4XGM0HMfTJ",
        "outputId": "a2ff0e10-df06-4d34-c32d-dc6a4c819411"
      },
      "source": [
        "#Apply all types of cleaning on whle dataset\n",
        "data[\"text\"]= data[\"text\"].apply(cleantweet)\n",
        "\n",
        "data['text'] = data['text'].str.lower()\n",
        "\n",
        "data['text']= data['text'].apply(remove_stopwords)\n",
        "\n",
        "data['text']= data['text'].apply(remove_punctuation)\n",
        "\n",
        "# Dropping garbage values from time_stamp column\n",
        "arr = []\n",
        "for i in range(len(data)):\n",
        "  if(len(data['time_stamp'][i])<25):\n",
        "    arr.append(i)\n",
        "data = data.drop(arr)\n",
        "\n",
        "# converting string to timestamp object\n",
        "data['time_stamp'] = pd.to_datetime(data['time_stamp'], format='%Y-%m-%d %H:%M:%S%z')\n",
        "\n",
        "# Forming a new column called Date\n",
        "data[\"Date\"] = data[\"time_stamp\"].dt.date\n",
        "\n",
        "# Removing rows having 2011 data\n",
        "indexes = data[data['Date']>=datetime.datetime.strptime('2011-01-01 11:11:11+00:00', '%Y-%m-%d %H:%M:%S%z').date()].index\n",
        "data = data.drop(indexes)\n",
        "\n",
        "# Sorting dataframe according to the Date column\n",
        "data = data.sort_values(by='Date')\n",
        "\n",
        "data.head()"
      ],
      "execution_count": null,
      "outputs": [
        {
          "output_type": "execute_result",
          "data": {
            "text/html": [
              "<div>\n",
              "<style scoped>\n",
              "    .dataframe tbody tr th:only-of-type {\n",
              "        vertical-align: middle;\n",
              "    }\n",
              "\n",
              "    .dataframe tbody tr th {\n",
              "        vertical-align: top;\n",
              "    }\n",
              "\n",
              "    .dataframe thead th {\n",
              "        text-align: right;\n",
              "    }\n",
              "</style>\n",
              "<table border=\"1\" class=\"dataframe\">\n",
              "  <thead>\n",
              "    <tr style=\"text-align: right;\">\n",
              "      <th></th>\n",
              "      <th>Unnamed: 0</th>\n",
              "      <th>Url</th>\n",
              "      <th>time_stamp</th>\n",
              "      <th>ids</th>\n",
              "      <th>text</th>\n",
              "      <th>subjectivity</th>\n",
              "      <th>target</th>\n",
              "      <th>label</th>\n",
              "      <th>Date</th>\n",
              "    </tr>\n",
              "  </thead>\n",
              "  <tbody>\n",
              "    <tr>\n",
              "      <th>1170</th>\n",
              "      <td>0</td>\n",
              "      <td>https://twitter.com/microsoft_watch/status/152...</td>\n",
              "      <td>2010-06-01 23:47:09+00:00</td>\n",
              "      <td>15211968006</td>\n",
              "      <td>osnews  microsoft google  security bigger  msft</td>\n",
              "      <td>0.500000</td>\n",
              "      <td>0.000000</td>\n",
              "      <td>Neutral</td>\n",
              "      <td>2010-06-01</td>\n",
              "    </tr>\n",
              "    <tr>\n",
              "      <th>1284</th>\n",
              "      <td>114</td>\n",
              "      <td>https://twitter.com/microsoft_watch/status/151...</td>\n",
              "      <td>2010-06-01 00:47:36+00:00</td>\n",
              "      <td>15143346257</td>\n",
              "      <td>businessinsider  google dumps microsoft window...</td>\n",
              "      <td>0.000000</td>\n",
              "      <td>0.000000</td>\n",
              "      <td>Neutral</td>\n",
              "      <td>2010-06-01</td>\n",
              "    </tr>\n",
              "    <tr>\n",
              "      <th>1285</th>\n",
              "      <td>115</td>\n",
              "      <td>https://twitter.com/harmongreg/status/15143270898</td>\n",
              "      <td>2010-06-01 00:46:12+00:00</td>\n",
              "      <td>15143270898</td>\n",
              "      <td>msft  consolidating big fall  fails support 2...</td>\n",
              "      <td>0.466667</td>\n",
              "      <td>-0.166667</td>\n",
              "      <td>Negative</td>\n",
              "      <td>2010-06-01</td>\n",
              "    </tr>\n",
              "    <tr>\n",
              "      <th>1171</th>\n",
              "      <td>1</td>\n",
              "      <td>https://twitter.com/microsoft_watch/status/152...</td>\n",
              "      <td>2010-06-01 23:35:18+00:00</td>\n",
              "      <td>15211297986</td>\n",
              "      <td>newscnet  microsoft responds google &amp; 039  win...</td>\n",
              "      <td>0.000000</td>\n",
              "      <td>0.000000</td>\n",
              "      <td>Neutral</td>\n",
              "      <td>2010-06-01</td>\n",
              "    </tr>\n",
              "    <tr>\n",
              "      <th>1253</th>\n",
              "      <td>83</td>\n",
              "      <td>https://twitter.com/TheSlush/status/15178212604</td>\n",
              "      <td>2010-06-01 13:37:10+00:00</td>\n",
              "      <td>15178212604</td>\n",
              "      <td>google phasing windows  switching mostly mac  ...</td>\n",
              "      <td>0.437500</td>\n",
              "      <td>0.187500</td>\n",
              "      <td>Positive</td>\n",
              "      <td>2010-06-01</td>\n",
              "    </tr>\n",
              "  </tbody>\n",
              "</table>\n",
              "</div>"
            ],
            "text/plain": [
              "     Unnamed: 0  ...        Date\n",
              "1170          0  ...  2010-06-01\n",
              "1284        114  ...  2010-06-01\n",
              "1285        115  ...  2010-06-01\n",
              "1171          1  ...  2010-06-01\n",
              "1253         83  ...  2010-06-01\n",
              "\n",
              "[5 rows x 9 columns]"
            ]
          },
          "metadata": {
            "tags": []
          },
          "execution_count": 5
        }
      ]
    },
    {
      "cell_type": "markdown",
      "metadata": {
        "id": "w0szJQzIOQBF"
      },
      "source": [
        "## Classification"
      ]
    },
    {
      "cell_type": "markdown",
      "metadata": {
        "id": "nfITXXiOTEfL"
      },
      "source": [
        "### Class declaration for MNB Classification"
      ]
    },
    {
      "cell_type": "code",
      "metadata": {
        "id": "D3ZNiWuTTPWF"
      },
      "source": [
        "class Multinomial_Naive_Bayes:\n",
        "  def __init__(self,alpha=1):\n",
        "    self.alpha=alpha\n",
        "    self.ngram=1\n",
        "    self.cat_pos_count=0\n",
        "    self.cat_neg_count=0\n",
        "    self.cat_nut_count=0\n",
        "    self.tot_cat_count=0\n",
        "    self.cat_pos_prior=0\n",
        "    self.cat_neg_prior=0\n",
        "    self.cat_nut_prior=0\n",
        "    self.word_p=[]\n",
        "\n",
        "  #Function for tokenizing the text document and generating the ngrams in range\n",
        "  def Tokenize(self,doc):\n",
        "    #split the document by space\n",
        "    doc=doc.split()\n",
        "    return (everygrams(doc,max_len=min(self.ngram,len(doc))))\n",
        "\n",
        "  #Function for counting the frequency with respect to label\n",
        "  def Word_cout(self,document,label):\n",
        "    count={}\n",
        "    for doc,cat in zip(document,label):\n",
        "      for tocken in self.Tokenize(doc):\n",
        "        if tocken not in count:\n",
        "          count[tocken]={}\n",
        "          count[tocken]['Neutral']=0\n",
        "          count[tocken]['Positive']=0\n",
        "          count[tocken]['Negative']=0\n",
        "        count[tocken][cat]+=1\n",
        "    return count\n",
        "    \n",
        "  #Function for finding the proir probability of the label \n",
        "  def prior_prob(self, cat_count):\n",
        "    cat_pos_word_count = cat_neg_word_count = cat_nut_word_count = 0\n",
        "\n",
        "    for word in cat_count.keys():\n",
        "       cat_pos_word_count+=cat_count[word]['Positive']\n",
        "       cat_neg_word_count+=cat_count[word]['Negative']\n",
        "       cat_nut_word_count+=cat_count[word]['Neutral']\n",
        "    \n",
        "    self.cat_neg_count=cat_neg_word_count\n",
        "    self.cat_pos_count=cat_pos_word_count\n",
        "    self.cat_nut_count=cat_nut_word_count\n",
        "    self.tot_cat_count=cat_neg_word_count+cat_pos_word_count+cat_nut_word_count\n",
        "\n",
        "    cat_pos_prior=cat_pos_word_count/self.tot_cat_count\n",
        "    cat_neg_prior=cat_neg_word_count/self.tot_cat_count\n",
        "    cat_nut_prior=cat_nut_word_count/self.tot_cat_count\n",
        "    return cat_pos_prior,cat_neg_prior,cat_nut_prior\n",
        "\n",
        "  #Function for finding the probability of the word given the label \n",
        "  def word_prob(self,cat_count):\n",
        "    word_p={}\n",
        "    for word in cat_count.keys():\n",
        "        word_p[word]={\n",
        "            'Positive': (cat_count[word]['Positive']+ self.alpha)/(self.cat_pos_count + 2*self.alpha),\n",
        "            'Negative': (cat_count[word]['Negative']+ self.alpha)/(self.cat_neg_count + 2*self.alpha),\n",
        "            'Neutral': (cat_count[word]['Neutral']+ self.alpha)/(self.cat_nut_count + 2*self.alpha),\n",
        "        }\n",
        "    print(word_p)\n",
        "    return word_p    \n",
        "\n",
        "  #Function for the fitting the data using above functions\n",
        "  def fit(self,X,Y,ngram=1):\n",
        "    self.ngram=ngram\n",
        "    count=self.Word_cout(X,Y)\n",
        "    self.cat_pos_prior,self.cat_neg_prior,self.cat_nut_prior=self.prior_prob(count)\n",
        "    self.word_p=self.word_prob(count)\n",
        "  \n",
        "\n",
        "  #Predict the label of the given document based on Bayes rule\n",
        "  def predict(self,X_test):\n",
        "\n",
        "    cat_pos_word_count = cat_neg_word_count = cat_nut_word_count = 0\n",
        "    tockens=self.Tokenize(X_test)\n",
        "    \n",
        "    for token in tockens:\n",
        "      if token in self.word_p:\n",
        "         cat_pos_word_count+=np.log(self.word_p[token]['Positive'])\n",
        "         cat_neg_word_count+=np.log(self.word_p[token]['Negative'])\n",
        "         cat_nut_word_count+=np.log(self.word_p[token]['Neutral'])\n",
        "      else :\n",
        "        cat_pos_word_count+=np.log(0.5)\n",
        "        cat_neg_word_count+=np.log(0.5)\n",
        "        cat_nut_word_count+=np.log(0.5)\n",
        "    \n",
        "    prob_pos=self.cat_pos_prior*np.exp(cat_pos_word_count)\n",
        "    prob_neg=self.cat_neg_prior*np.exp(cat_neg_word_count)\n",
        "    prob_nut=self.cat_nut_prior*np.exp(cat_nut_word_count)\n",
        "\n",
        "    if ( prob_nut>prob_neg and prob_nut>prob_pos ):\n",
        "      return \"Neutral\"\n",
        "    elif prob_pos>prob_neg:\n",
        "      return \"Positive\"\n",
        "    elif prob_neg>prob_pos:\n",
        "      return \"Negative\"\n",
        "    else:\n",
        "      return \"Neutral\""
      ],
      "execution_count": null,
      "outputs": []
    },
    {
      "cell_type": "markdown",
      "metadata": {
        "id": "KCux9DUbTfot"
      },
      "source": [
        "### Accuracy for MNB made from scratch"
      ]
    },
    {
      "cell_type": "code",
      "metadata": {
        "colab": {
          "base_uri": "https://localhost:8080/"
        },
        "id": "KsbUH982OS1N",
        "outputId": "90c2b5e0-e438-4b9e-cbec-37f76db9f9ad"
      },
      "source": [
        "X_train,X_test,Y_train,Y_test=train_test_split(data.text,data.label,test_size=0.2)\n",
        "\n",
        "# Alpha is the smooting factor which prevents the zero probability\n",
        "classifier = Multinomial_Naive_Bayes(alpha=0.1)\n",
        "classifier.fit(X_train,Y_train,2)\n",
        "\n",
        "y_pred=[]\n",
        "for xt,yt in zip(X_test, Y_test):\n",
        "  y_pred.append(classifier.predict(xt))\n",
        "\n",
        "print(\"Accuracy =\", accuracy_score(y_pred,Y_test)*100, '%')"
      ],
      "execution_count": null,
      "outputs": [
        {
          "output_type": "stream",
          "text": [
            "IOPub data rate exceeded.\n",
            "The notebook server will temporarily stop sending output\n",
            "to the client in order to avoid crashing it.\n",
            "To change this limit, set the config variable\n",
            "`--NotebookApp.iopub_data_rate_limit`.\n",
            "\n",
            "Current values:\n",
            "NotebookApp.iopub_data_rate_limit=1000000.0 (bytes/sec)\n",
            "NotebookApp.rate_limit_window=3.0 (secs)\n",
            "\n"
          ],
          "name": "stderr"
        },
        {
          "output_type": "stream",
          "text": [
            "Accuracy = 79.75811584977721 %\n"
          ],
          "name": "stdout"
        }
      ]
    },
    {
      "cell_type": "markdown",
      "metadata": {
        "id": "ifscLx4-UEPh"
      },
      "source": [
        "### Accuracy for MNB of inbuilt"
      ]
    },
    {
      "cell_type": "code",
      "metadata": {
        "colab": {
          "base_uri": "https://localhost:8080/"
        },
        "id": "RY-JwL-3UlEi",
        "outputId": "7fd7bbfd-193e-450f-90be-388407c71e20"
      },
      "source": [
        "# Calling CountVectorizer and converting sentences to feature matrix\n",
        "vectorizer = CountVectorizer()\n",
        "X = vectorizer.fit_transform(data['text'])\n",
        "\n",
        "X_train,X_test,Y_train,Y_test = train_test_split(X,data.label,test_size=0.2)\n",
        "\n",
        "MNB = MultinomialNB()\n",
        "MNB.fit(X_train, Y_train)\n",
        "pred=MNB.predict(X_test)\n",
        "acc = accuracy_score(pred,Y_test)\n",
        "print(\"Accuracy =\", acc*100, \"%\")"
      ],
      "execution_count": null,
      "outputs": [
        {
          "output_type": "stream",
          "text": [
            "Accuracy = 81.92234245703374 %\n"
          ],
          "name": "stdout"
        }
      ]
    },
    {
      "cell_type": "markdown",
      "metadata": {
        "id": "Kv3GFRcNeUov"
      },
      "source": [
        "## Tweet Feature Extraction Related to stock market"
      ]
    },
    {
      "cell_type": "markdown",
      "metadata": {
        "id": "1dxA5chmeaB5"
      },
      "source": [
        "### Grouping data daywise"
      ]
    },
    {
      "cell_type": "code",
      "metadata": {
        "colab": {
          "base_uri": "https://localhost:8080/"
        },
        "id": "ijaXIXydeVcY",
        "outputId": "614f1f90-e548-4280-e072-c01a77426271"
      },
      "source": [
        "#Converting Date column to type of datetime object\n",
        "data['Date'] = pd.to_datetime(data['Date'], errors='coerce')\n",
        "\n",
        "#Grouping in Dataframe Day wise\n",
        "grouped_day = data.groupby(pd.Grouper(key='Date',freq='1D'))\n",
        "\n",
        "dates = data.Date.unique()\n",
        "\n",
        "day_data_collection = {}\n",
        "\n",
        "#Creating and storing all the Date wise Dataframe into diffrent dataframes\n",
        "for d in dates:\n",
        "  day_data_collection[d] = grouped_day.get_group(d) \n",
        "\n",
        "print(day_data_collection[dates[0]])"
      ],
      "execution_count": null,
      "outputs": [
        {
          "output_type": "stream",
          "text": [
            "     Unnamed: 0  ...       Date\n",
            "1170          0  ... 2010-06-01\n",
            "1284        114  ... 2010-06-01\n",
            "1285        115  ... 2010-06-01\n",
            "1171          1  ... 2010-06-01\n",
            "1253         83  ... 2010-06-01\n",
            "...         ...  ...        ...\n",
            "1208         38  ... 2010-06-01\n",
            "1209         39  ... 2010-06-01\n",
            "1210         40  ... 2010-06-01\n",
            "1211         41  ... 2010-06-01\n",
            "1207         37  ... 2010-06-01\n",
            "\n",
            "[116 rows x 9 columns]\n"
          ],
          "name": "stdout"
        }
      ]
    },
    {
      "cell_type": "markdown",
      "metadata": {
        "id": "Nxp8evKceiwA"
      },
      "source": [
        "### Extracting Feature Daywise"
      ]
    },
    {
      "cell_type": "code",
      "metadata": {
        "colab": {
          "base_uri": "https://localhost:8080/"
        },
        "id": "Fz58D1TQejGO",
        "outputId": "a24d924f-fdd0-4d3a-d7e4-1e15d09298d5"
      },
      "source": [
        "m_positive_day = {}\n",
        "m_negative_day = {}\n",
        "bull_day = {}\n",
        "agreement_day = {}\n",
        "message_volume_day = {}\n",
        "\n",
        "#iterate through dates\n",
        "for d in dates:\n",
        "  #finding number of positives\n",
        "  m_positive_day[d] = day_data_collection[d][day_data_collection[d].label == 'Positive'].shape[0]\n",
        "  #finding number of negatives\n",
        "  m_negative_day[d] = day_data_collection[d][day_data_collection[d].label == 'Negative'].shape[0]\n",
        "  #finding the bullishness\n",
        "  bull_day[d] = np.log((1 + m_positive_day[d])/(1 + m_negative_day[d]))\n",
        "  #finding the agreement\n",
        "  val = 0\n",
        "  if m_positive_day[d] + m_negative_day[d]==0:\n",
        "    val=1\n",
        "  else: val = (1 - (m_positive_day[d] - m_negative_day[d])/(m_positive_day[d] + m_negative_day[d]))\n",
        "  agreement_day[d] = 1 - ((val)**0.5)\n",
        "  #finding the message volume\n",
        "  message_volume_day[d]  = np.log(m_positive_day[d] + m_negative_day[d])"
      ],
      "execution_count": null,
      "outputs": [
        {
          "output_type": "stream",
          "text": [
            "/usr/local/lib/python3.7/dist-packages/ipykernel_launcher.py:22: RuntimeWarning: divide by zero encountered in log\n"
          ],
          "name": "stderr"
        }
      ]
    },
    {
      "cell_type": "markdown",
      "metadata": {
        "id": "i6RSe0VXe67-"
      },
      "source": [
        "### Generating all the dates in a year"
      ]
    },
    {
      "cell_type": "code",
      "metadata": {
        "colab": {
          "base_uri": "https://localhost:8080/"
        },
        "id": "y7RrzkHne9u-",
        "outputId": "034fe084-c464-45e8-dfe9-8cfa76a8f322"
      },
      "source": [
        "generated_dates = pd.date_range(start = \"2010-06-01\", end = \"2010-12-31\")\n",
        "print(generated_dates)"
      ],
      "execution_count": null,
      "outputs": [
        {
          "output_type": "stream",
          "text": [
            "DatetimeIndex(['2010-06-01', '2010-06-02', '2010-06-03', '2010-06-04',\n",
            "               '2010-06-05', '2010-06-06', '2010-06-07', '2010-06-08',\n",
            "               '2010-06-09', '2010-06-10',\n",
            "               ...\n",
            "               '2010-12-22', '2010-12-23', '2010-12-24', '2010-12-25',\n",
            "               '2010-12-26', '2010-12-27', '2010-12-28', '2010-12-29',\n",
            "               '2010-12-30', '2010-12-31'],\n",
            "              dtype='datetime64[ns]', length=214, freq='D')\n"
          ],
          "name": "stdout"
        }
      ]
    },
    {
      "cell_type": "markdown",
      "metadata": {
        "id": "9WzseTQJfGcG"
      },
      "source": [
        "### Generalizing twitter features for all the dates (i.e. adding missing values)"
      ]
    },
    {
      "cell_type": "code",
      "metadata": {
        "colab": {
          "base_uri": "https://localhost:8080/",
          "height": 404
        },
        "id": "bdir1n9PfGsJ",
        "outputId": "a6a75d7d-dbc2-4a80-9e14-9e2d04077920"
      },
      "source": [
        "#making dictonary to store the date and features\n",
        "temp_dict = {\"dates\":[],\"positive\":[],\"negative\":[],\"Bullishness\":[],\"Agreement\":[],\"Message_volume\":[]}\n",
        "\n",
        "iter = 0\n",
        "\n",
        "#filling data in dictonary\n",
        "for d in generated_dates:\n",
        "  if (d in dates):\n",
        "    temp_dict[\"dates\"].append(d)\n",
        "    temp_dict[\"positive\"].append(list(m_positive_day.values())[iter])\n",
        "    temp_dict[\"negative\"].append(list(m_negative_day.values())[iter])\n",
        "    temp_dict[\"Bullishness\"].append(list(bull_day.values())[iter])\n",
        "    temp_dict[\"Agreement\"].append(list(agreement_day.values())[iter])\n",
        "    temp_dict[\"Message_volume\"].append(list(message_volume_day.values())[iter])\n",
        "    iter = iter+1 \n",
        "  else:\n",
        "    temp_dict[\"dates\"].append(d)\n",
        "    temp_dict[\"positive\"].append(0)\n",
        "    temp_dict[\"negative\"].append(0)\n",
        "    temp_dict[\"Bullishness\"].append(0)\n",
        "    temp_dict[\"Agreement\"].append(0)\n",
        "    temp_dict[\"Message_volume\"].append(0) \n",
        "  \n",
        "#convert dictonary to dataframe\n",
        "date_wise_df = pd.DataFrame.from_dict(temp_dict)\n",
        "display(date_wise_df)"
      ],
      "execution_count": null,
      "outputs": [
        {
          "output_type": "display_data",
          "data": {
            "text/html": [
              "<div>\n",
              "<style scoped>\n",
              "    .dataframe tbody tr th:only-of-type {\n",
              "        vertical-align: middle;\n",
              "    }\n",
              "\n",
              "    .dataframe tbody tr th {\n",
              "        vertical-align: top;\n",
              "    }\n",
              "\n",
              "    .dataframe thead th {\n",
              "        text-align: right;\n",
              "    }\n",
              "</style>\n",
              "<table border=\"1\" class=\"dataframe\">\n",
              "  <thead>\n",
              "    <tr style=\"text-align: right;\">\n",
              "      <th></th>\n",
              "      <th>dates</th>\n",
              "      <th>positive</th>\n",
              "      <th>negative</th>\n",
              "      <th>Bullishness</th>\n",
              "      <th>Agreement</th>\n",
              "      <th>Message_volume</th>\n",
              "    </tr>\n",
              "  </thead>\n",
              "  <tbody>\n",
              "    <tr>\n",
              "      <th>0</th>\n",
              "      <td>2010-06-01</td>\n",
              "      <td>27</td>\n",
              "      <td>16</td>\n",
              "      <td>0.498991</td>\n",
              "      <td>0.137338</td>\n",
              "      <td>3.761200</td>\n",
              "    </tr>\n",
              "    <tr>\n",
              "      <th>1</th>\n",
              "      <td>2010-06-02</td>\n",
              "      <td>26</td>\n",
              "      <td>13</td>\n",
              "      <td>0.656780</td>\n",
              "      <td>0.183503</td>\n",
              "      <td>3.663562</td>\n",
              "    </tr>\n",
              "    <tr>\n",
              "      <th>2</th>\n",
              "      <td>2010-06-03</td>\n",
              "      <td>64</td>\n",
              "      <td>14</td>\n",
              "      <td>1.466337</td>\n",
              "      <td>0.400855</td>\n",
              "      <td>4.356709</td>\n",
              "    </tr>\n",
              "    <tr>\n",
              "      <th>3</th>\n",
              "      <td>2010-06-04</td>\n",
              "      <td>18</td>\n",
              "      <td>15</td>\n",
              "      <td>0.171850</td>\n",
              "      <td>0.046537</td>\n",
              "      <td>3.496508</td>\n",
              "    </tr>\n",
              "    <tr>\n",
              "      <th>4</th>\n",
              "      <td>2010-06-05</td>\n",
              "      <td>3</td>\n",
              "      <td>5</td>\n",
              "      <td>-0.405465</td>\n",
              "      <td>-0.118034</td>\n",
              "      <td>2.079442</td>\n",
              "    </tr>\n",
              "    <tr>\n",
              "      <th>...</th>\n",
              "      <td>...</td>\n",
              "      <td>...</td>\n",
              "      <td>...</td>\n",
              "      <td>...</td>\n",
              "      <td>...</td>\n",
              "      <td>...</td>\n",
              "    </tr>\n",
              "    <tr>\n",
              "      <th>209</th>\n",
              "      <td>2010-12-27</td>\n",
              "      <td>8</td>\n",
              "      <td>3</td>\n",
              "      <td>0.810930</td>\n",
              "      <td>0.261451</td>\n",
              "      <td>2.397895</td>\n",
              "    </tr>\n",
              "    <tr>\n",
              "      <th>210</th>\n",
              "      <td>2010-12-28</td>\n",
              "      <td>11</td>\n",
              "      <td>2</td>\n",
              "      <td>1.386294</td>\n",
              "      <td>0.445300</td>\n",
              "      <td>2.564949</td>\n",
              "    </tr>\n",
              "    <tr>\n",
              "      <th>211</th>\n",
              "      <td>2010-12-29</td>\n",
              "      <td>7</td>\n",
              "      <td>1</td>\n",
              "      <td>1.386294</td>\n",
              "      <td>0.500000</td>\n",
              "      <td>2.079442</td>\n",
              "    </tr>\n",
              "    <tr>\n",
              "      <th>212</th>\n",
              "      <td>2010-12-30</td>\n",
              "      <td>46</td>\n",
              "      <td>1</td>\n",
              "      <td>3.157000</td>\n",
              "      <td>0.793716</td>\n",
              "      <td>3.850148</td>\n",
              "    </tr>\n",
              "    <tr>\n",
              "      <th>213</th>\n",
              "      <td>2010-12-31</td>\n",
              "      <td>110</td>\n",
              "      <td>41</td>\n",
              "      <td>0.971861</td>\n",
              "      <td>0.263083</td>\n",
              "      <td>5.017280</td>\n",
              "    </tr>\n",
              "  </tbody>\n",
              "</table>\n",
              "<p>214 rows × 6 columns</p>\n",
              "</div>"
            ],
            "text/plain": [
              "         dates  positive  negative  Bullishness  Agreement  Message_volume\n",
              "0   2010-06-01        27        16     0.498991   0.137338        3.761200\n",
              "1   2010-06-02        26        13     0.656780   0.183503        3.663562\n",
              "2   2010-06-03        64        14     1.466337   0.400855        4.356709\n",
              "3   2010-06-04        18        15     0.171850   0.046537        3.496508\n",
              "4   2010-06-05         3         5    -0.405465  -0.118034        2.079442\n",
              "..         ...       ...       ...          ...        ...             ...\n",
              "209 2010-12-27         8         3     0.810930   0.261451        2.397895\n",
              "210 2010-12-28        11         2     1.386294   0.445300        2.564949\n",
              "211 2010-12-29         7         1     1.386294   0.500000        2.079442\n",
              "212 2010-12-30        46         1     3.157000   0.793716        3.850148\n",
              "213 2010-12-31       110        41     0.971861   0.263083        5.017280\n",
              "\n",
              "[214 rows x 6 columns]"
            ]
          },
          "metadata": {
            "tags": []
          }
        }
      ]
    },
    {
      "cell_type": "markdown",
      "metadata": {
        "id": "DTo_SBLpfZeA"
      },
      "source": [
        "##  Financial Data Extraction"
      ]
    },
    {
      "cell_type": "code",
      "metadata": {
        "colab": {
          "base_uri": "https://localhost:8080/",
          "height": 489
        },
        "id": "rfEDB3Ekfff2",
        "outputId": "f77fdef2-03bb-4243-a06b-bbba35a89ef7"
      },
      "source": [
        "# Gives company's financial information with its ticker symbol as an argument\n",
        "msft = yf.Ticker(\"MSFT\")\n",
        "\n",
        "print(msft.info)\n",
        "\n",
        "start_date = str(generated_dates[0])[:10]\n",
        "end_date = str(generated_dates[len(generated_dates)-1])[:10]\n",
        "\n",
        "# Converting dates from string to datetime object\n",
        "start_date_obj = datetime.datetime.strptime(start_date, '%Y-%m-%d')\n",
        "end_date_obj = datetime.datetime.strptime(end_date, '%Y-%m-%d')\n",
        "\n",
        "# Gives history of the company in the date range given\n",
        "hist = msft.history(start=start_date, end=end_date)\n",
        "\n",
        "display(hist)\n",
        "print(\"Total Days:\", (end_date_obj-start_date_obj).days + 1,\" Trading Days:\", len(hist))"
      ],
      "execution_count": null,
      "outputs": [
        {
          "output_type": "stream",
          "text": [
            "{'zip': '98052-6399', 'sector': 'Technology', 'fullTimeEmployees': 163000, 'longBusinessSummary': 'Microsoft Corporation develops, licenses, and supports software, services, devices, and solutions worldwide. Its Productivity and Business Processes segment offers Office, Exchange, SharePoint, Microsoft Teams, Office 365 Security and Compliance, and Skype for Business, as well as related Client Access Licenses (CAL); Skype, Outlook.com, OneDrive, and LinkedIn; and Dynamics 365, a set of cloud-based and on-premises business solutions for small and medium businesses, large organizations, and divisions of enterprises. Its Intelligent Cloud segment licenses SQL and Windows Servers, Visual Studio, System Center, and related CALs; GitHub that provides a collaboration platform and code hosting service for developers; and Azure, a cloud platform. It also offers support services and Microsoft consulting services to assist customers in developing, deploying, and managing Microsoft server and desktop solutions; and training and certification to developers and IT professionals on various Microsoft products. Its More Personal Computing segment provides Windows original equipment manufacturer (OEM) licensing and other non-volume licensing of the Windows operating system; Windows Commercial, such as volume licensing of the Windows operating system, Windows cloud services, and other Windows commercial offerings; patent licensing; Windows Internet of Things; and MSN advertising. It also offers Surface, PC accessories, PCs, tablets, gaming and entertainment consoles, and other devices; Gaming, including Xbox hardware, and Xbox content and services; video games and third-party video game royalties; and Search, including Bing and Microsoft advertising. It sells its products through OEMs, distributors, and resellers; and directly through digital marketplaces, online stores, and retail stores. It has a strategic collaboration with DXC Technology and Dynatrace, Inc. The company was founded in 1975 and is headquartered in Redmond, Washington.', 'city': 'Redmond', 'phone': '425-882-8080', 'state': 'WA', 'country': 'United States', 'companyOfficers': [], 'website': 'http://www.microsoft.com', 'maxAge': 1, 'address1': 'One Microsoft Way', 'industry': 'Software—Infrastructure', 'previousClose': 253.25, 'regularMarketOpen': 252.87, 'twoHundredDayAverage': 223.73563, 'trailingAnnualDividendYield': 0.008450149, 'payoutRatio': 0.31149998, 'volume24Hr': None, 'regularMarketDayHigh': 255.99, 'navPrice': None, 'averageDailyVolume10Day': 26802533, 'totalAssets': None, 'regularMarketPreviousClose': 253.25, 'fiftyDayAverage': 236.36736, 'trailingAnnualDividendRate': 2.14, 'open': 252.87, 'toCurrency': None, 'averageVolume10days': 26802533, 'expireDate': None, 'yield': None, 'algorithm': None, 'dividendRate': 2.24, 'exDividendDate': 1621382400, 'beta': 0.794263, 'circulatingSupply': None, 'startDate': None, 'regularMarketDayLow': 252.44, 'priceHint': 2, 'currency': 'USD', 'trailingPE': 38.146713, 'regularMarketVolume': 22917371, 'lastMarket': None, 'maxSupply': None, 'openInterest': None, 'marketCap': 1929676980224, 'volumeAllCurrencies': None, 'strikePrice': None, 'averageVolume': 30264616, 'priceToSalesTrailing12Months': 12.5889, 'dayLow': 252.44, 'ask': 255.73, 'ytdReturn': None, 'askSize': 900, 'volume': 22917371, 'fiftyTwoWeekHigh': 255.99, 'forwardPE': 31.664604, 'fromCurrency': None, 'fiveYearAvgDividendYield': 1.66, 'fiftyTwoWeekLow': 162.3, 'bid': 255.51, 'tradeable': False, 'dividendYield': 0.0088, 'bidSize': 900, 'dayHigh': 255.99, 'exchange': 'NMS', 'shortName': 'Microsoft Corporation', 'longName': 'Microsoft Corporation', 'exchangeTimezoneName': 'America/New_York', 'exchangeTimezoneShortName': 'EDT', 'isEsgPopulated': False, 'gmtOffSetMilliseconds': '-14400000', 'quoteType': 'EQUITY', 'symbol': 'MSFT', 'messageBoardId': 'finmb_21835', 'market': 'us_market', 'annualHoldingsTurnover': None, 'enterpriseToRevenue': 12.268, 'beta3Year': None, 'profitMargins': 0.33473998, 'enterpriseToEbitda': 26.232, '52WeekChange': 0.5458281, 'morningStarRiskRating': None, 'forwardEps': 8.08, 'revenueQuarterlyGrowth': None, 'sharesOutstanding': 7560500224, 'fundInceptionDate': None, 'annualReportExpenseRatio': None, 'bookValue': 17.259, 'sharesShort': 49574419, 'sharesPercentSharesOut': 0.0066000004, 'fundFamily': None, 'lastFiscalYearEnd': 1593475200, 'heldPercentInstitutions': 0.72166, 'netIncomeToCommon': 51309998080, 'trailingEps': 6.707, 'lastDividendValue': 0.56, 'SandP52WeekChange': 0.49505913, 'priceToBook': 14.824149, 'heldPercentInsiders': 0.00071999995, 'nextFiscalYearEnd': 1656547200, 'mostRecentQuarter': 1609372800, 'shortRatio': 1.63, 'sharesShortPreviousMonthDate': 1613088000, 'floatShares': 7431118929, 'enterpriseValue': 1880468881408, 'threeYearAverageReturn': None, 'lastSplitDate': 1045526400, 'lastSplitFactor': '2:1', 'legalType': None, 'lastDividendDate': 1613520000, 'morningStarOverallRating': None, 'earningsQuarterlyGrowth': 0.327, 'dateShortInterest': 1615766400, 'pegRatio': 1.87, 'lastCapGain': None, 'shortPercentOfFloat': 0.0066000004, 'sharesShortPriorMonth': 40597300, 'impliedSharesOutstanding': None, 'category': None, 'fiveYearAverageReturn': None, 'regularMarketPrice': 255.85, 'logo_url': 'https://logo.clearbit.com/microsoft.com'}\n"
          ],
          "name": "stdout"
        },
        {
          "output_type": "display_data",
          "data": {
            "text/html": [
              "<div>\n",
              "<style scoped>\n",
              "    .dataframe tbody tr th:only-of-type {\n",
              "        vertical-align: middle;\n",
              "    }\n",
              "\n",
              "    .dataframe tbody tr th {\n",
              "        vertical-align: top;\n",
              "    }\n",
              "\n",
              "    .dataframe thead th {\n",
              "        text-align: right;\n",
              "    }\n",
              "</style>\n",
              "<table border=\"1\" class=\"dataframe\">\n",
              "  <thead>\n",
              "    <tr style=\"text-align: right;\">\n",
              "      <th></th>\n",
              "      <th>Open</th>\n",
              "      <th>High</th>\n",
              "      <th>Low</th>\n",
              "      <th>Close</th>\n",
              "      <th>Volume</th>\n",
              "      <th>Dividends</th>\n",
              "      <th>Stock Splits</th>\n",
              "    </tr>\n",
              "    <tr>\n",
              "      <th>Date</th>\n",
              "      <th></th>\n",
              "      <th></th>\n",
              "      <th></th>\n",
              "      <th></th>\n",
              "      <th></th>\n",
              "      <th></th>\n",
              "      <th></th>\n",
              "    </tr>\n",
              "  </thead>\n",
              "  <tbody>\n",
              "    <tr>\n",
              "      <th>2010-06-01</th>\n",
              "      <td>20.021019</td>\n",
              "      <td>20.632706</td>\n",
              "      <td>20.013176</td>\n",
              "      <td>20.303335</td>\n",
              "      <td>76152400</td>\n",
              "      <td>0.0</td>\n",
              "      <td>0</td>\n",
              "    </tr>\n",
              "    <tr>\n",
              "      <th>2010-06-02</th>\n",
              "      <td>20.436652</td>\n",
              "      <td>20.766022</td>\n",
              "      <td>20.177861</td>\n",
              "      <td>20.750338</td>\n",
              "      <td>65718800</td>\n",
              "      <td>0.0</td>\n",
              "      <td>0</td>\n",
              "    </tr>\n",
              "    <tr>\n",
              "      <th>2010-06-03</th>\n",
              "      <td>20.820916</td>\n",
              "      <td>21.118919</td>\n",
              "      <td>20.711126</td>\n",
              "      <td>21.064024</td>\n",
              "      <td>67837000</td>\n",
              "      <td>0.0</td>\n",
              "      <td>0</td>\n",
              "    </tr>\n",
              "    <tr>\n",
              "      <th>2010-06-04</th>\n",
              "      <td>20.468021</td>\n",
              "      <td>20.836602</td>\n",
              "      <td>20.091598</td>\n",
              "      <td>20.224915</td>\n",
              "      <td>89832200</td>\n",
              "      <td>0.0</td>\n",
              "      <td>0</td>\n",
              "    </tr>\n",
              "    <tr>\n",
              "      <th>2010-06-07</th>\n",
              "      <td>20.248439</td>\n",
              "      <td>20.256281</td>\n",
              "      <td>19.793594</td>\n",
              "      <td>19.832806</td>\n",
              "      <td>80456200</td>\n",
              "      <td>0.0</td>\n",
              "      <td>0</td>\n",
              "    </tr>\n",
              "    <tr>\n",
              "      <th>...</th>\n",
              "      <td>...</td>\n",
              "      <td>...</td>\n",
              "      <td>...</td>\n",
              "      <td>...</td>\n",
              "      <td>...</td>\n",
              "      <td>...</td>\n",
              "      <td>...</td>\n",
              "    </tr>\n",
              "    <tr>\n",
              "      <th>2010-12-23</th>\n",
              "      <td>22.186999</td>\n",
              "      <td>22.464634</td>\n",
              "      <td>22.179066</td>\n",
              "      <td>22.448769</td>\n",
              "      <td>24902500</td>\n",
              "      <td>0.0</td>\n",
              "      <td>0</td>\n",
              "    </tr>\n",
              "    <tr>\n",
              "      <th>2010-12-27</th>\n",
              "      <td>22.305992</td>\n",
              "      <td>22.369451</td>\n",
              "      <td>22.115612</td>\n",
              "      <td>22.266329</td>\n",
              "      <td>21652800</td>\n",
              "      <td>0.0</td>\n",
              "      <td>0</td>\n",
              "    </tr>\n",
              "    <tr>\n",
              "      <th>2010-12-28</th>\n",
              "      <td>22.186999</td>\n",
              "      <td>22.345648</td>\n",
              "      <td>22.179066</td>\n",
              "      <td>22.218729</td>\n",
              "      <td>23042200</td>\n",
              "      <td>0.0</td>\n",
              "      <td>0</td>\n",
              "    </tr>\n",
              "    <tr>\n",
              "      <th>2010-12-29</th>\n",
              "      <td>22.163210</td>\n",
              "      <td>22.305994</td>\n",
              "      <td>22.115614</td>\n",
              "      <td>22.187006</td>\n",
              "      <td>19502500</td>\n",
              "      <td>0.0</td>\n",
              "      <td>0</td>\n",
              "    </tr>\n",
              "    <tr>\n",
              "      <th>2010-12-30</th>\n",
              "      <td>22.147345</td>\n",
              "      <td>22.210804</td>\n",
              "      <td>22.036291</td>\n",
              "      <td>22.091818</td>\n",
              "      <td>20786100</td>\n",
              "      <td>0.0</td>\n",
              "      <td>0</td>\n",
              "    </tr>\n",
              "  </tbody>\n",
              "</table>\n",
              "<p>149 rows × 7 columns</p>\n",
              "</div>"
            ],
            "text/plain": [
              "                 Open       High        Low  ...    Volume  Dividends  Stock Splits\n",
              "Date                                         ...                                   \n",
              "2010-06-01  20.021019  20.632706  20.013176  ...  76152400        0.0             0\n",
              "2010-06-02  20.436652  20.766022  20.177861  ...  65718800        0.0             0\n",
              "2010-06-03  20.820916  21.118919  20.711126  ...  67837000        0.0             0\n",
              "2010-06-04  20.468021  20.836602  20.091598  ...  89832200        0.0             0\n",
              "2010-06-07  20.248439  20.256281  19.793594  ...  80456200        0.0             0\n",
              "...               ...        ...        ...  ...       ...        ...           ...\n",
              "2010-12-23  22.186999  22.464634  22.179066  ...  24902500        0.0             0\n",
              "2010-12-27  22.305992  22.369451  22.115612  ...  21652800        0.0             0\n",
              "2010-12-28  22.186999  22.345648  22.179066  ...  23042200        0.0             0\n",
              "2010-12-29  22.163210  22.305994  22.115614  ...  19502500        0.0             0\n",
              "2010-12-30  22.147345  22.210804  22.036291  ...  20786100        0.0             0\n",
              "\n",
              "[149 rows x 7 columns]"
            ]
          },
          "metadata": {
            "tags": []
          }
        },
        {
          "output_type": "stream",
          "text": [
            "Total Days: 214  Trading Days: 149\n"
          ],
          "name": "stdout"
        }
      ]
    },
    {
      "cell_type": "markdown",
      "metadata": {
        "id": "7lRSqPUgf6lZ"
      },
      "source": [
        "### Adding missing values for non-trading days in financial features"
      ]
    },
    {
      "cell_type": "code",
      "metadata": {
        "colab": {
          "base_uri": "https://localhost:8080/",
          "height": 422
        },
        "id": "eDvvqioIf7aw",
        "outputId": "0ca39428-bcfc-4a8a-cf5e-137c6d7e962c"
      },
      "source": [
        "import math\n",
        "\n",
        "Close = hist['Close']\n",
        "Highs = hist['High']\n",
        "Lows = hist['Low']\n",
        "Open = hist['Open']\n",
        "Volume = hist['Volume']\n",
        "\n",
        "sum=0\n",
        "n=(end_date_obj-start_date_obj).days\n",
        "trading_days=len(hist)\n",
        "\n",
        "Return = np.zeros(trading_days, float)\n",
        "Return[0] = np.log(Close[0]) * 100\n",
        "\n",
        "# Using Garman and Klass volatility measure\n",
        "for i in range(0, trading_days):\n",
        "  sum += (0.5*(math.log(Highs[i]/Lows[i])**2) - (2*math.log(2)-1)*((math.log(Close[i]/Open[i]))**2)) \n",
        "  if(i>0): \n",
        "    # Calculating return using the formula given in the base paper\n",
        "    Return[i] = (np.log(Close[i]) - np.log(Close[i-1]))*100\n",
        "\n",
        "\n",
        "return_dict = {}\n",
        "close_dict = {}\n",
        "volatility_dict = {}\n",
        "\n",
        "financial_features = pd.DataFrame({'Date':[], 'Close':[], 'Return':[], 'Volatility':[]})\n",
        "\n",
        "j=0\n",
        "past=''\n",
        "for d in generated_dates:\n",
        "  current = str(d)[:10]\n",
        "  if j<len(hist) and str(hist.index[j])[:10]==current:\n",
        "    past = str(d)[:10]\n",
        "    close_dict[current] = Close[j]\n",
        "    # Using Garman and Klass volatility measure for volatility computation\n",
        "    volatility_dict[current] = (0.5*(math.log(Highs[j]/Lows[j])**2) - (2*math.log(2)-1)*((math.log(Close[j]/Open[j]))**2))\n",
        "    return_dict[current] = Return[j]\n",
        "    j=j+1\n",
        "  else:\n",
        "    return_dict[current] = 0\n",
        "    volatility_dict[current] = 0\n",
        "    if past=='':\n",
        "      close_dict[current] = 0\n",
        "    else:\n",
        "      close_dict[current] = close_dict[past]\n",
        "\n",
        "  financial_features = financial_features.append({'Date':d, 'Close':close_dict[current], 'Return':return_dict[current], 'Volatility':volatility_dict[current]}, ignore_index=True)\n",
        "\n",
        "display(financial_features)\n",
        "sigma = math.sqrt(sum/n)\n",
        "\n",
        "# Volatility using Garman and Klass volatility measures\n",
        "print(\"Volatility over 30 days of MSFT Stock = \", sigma)"
      ],
      "execution_count": null,
      "outputs": [
        {
          "output_type": "display_data",
          "data": {
            "text/html": [
              "<div>\n",
              "<style scoped>\n",
              "    .dataframe tbody tr th:only-of-type {\n",
              "        vertical-align: middle;\n",
              "    }\n",
              "\n",
              "    .dataframe tbody tr th {\n",
              "        vertical-align: top;\n",
              "    }\n",
              "\n",
              "    .dataframe thead th {\n",
              "        text-align: right;\n",
              "    }\n",
              "</style>\n",
              "<table border=\"1\" class=\"dataframe\">\n",
              "  <thead>\n",
              "    <tr style=\"text-align: right;\">\n",
              "      <th></th>\n",
              "      <th>Date</th>\n",
              "      <th>Close</th>\n",
              "      <th>Return</th>\n",
              "      <th>Volatility</th>\n",
              "    </tr>\n",
              "  </thead>\n",
              "  <tbody>\n",
              "    <tr>\n",
              "      <th>0</th>\n",
              "      <td>2010-06-01</td>\n",
              "      <td>20.303335</td>\n",
              "      <td>301.078517</td>\n",
              "      <td>0.000389</td>\n",
              "    </tr>\n",
              "    <tr>\n",
              "      <th>1</th>\n",
              "      <td>2010-06-02</td>\n",
              "      <td>20.750338</td>\n",
              "      <td>2.177735</td>\n",
              "      <td>0.000323</td>\n",
              "    </tr>\n",
              "    <tr>\n",
              "      <th>2</th>\n",
              "      <td>2010-06-03</td>\n",
              "      <td>21.064024</td>\n",
              "      <td>1.500404</td>\n",
              "      <td>0.000138</td>\n",
              "    </tr>\n",
              "    <tr>\n",
              "      <th>3</th>\n",
              "      <td>2010-06-04</td>\n",
              "      <td>20.224915</td>\n",
              "      <td>-4.065132</td>\n",
              "      <td>0.000608</td>\n",
              "    </tr>\n",
              "    <tr>\n",
              "      <th>4</th>\n",
              "      <td>2010-06-05</td>\n",
              "      <td>20.224915</td>\n",
              "      <td>0.000000</td>\n",
              "      <td>0.000000</td>\n",
              "    </tr>\n",
              "    <tr>\n",
              "      <th>...</th>\n",
              "      <td>...</td>\n",
              "      <td>...</td>\n",
              "      <td>...</td>\n",
              "      <td>...</td>\n",
              "    </tr>\n",
              "    <tr>\n",
              "      <th>209</th>\n",
              "      <td>2010-12-27</td>\n",
              "      <td>22.266329</td>\n",
              "      <td>-0.816014</td>\n",
              "      <td>0.000064</td>\n",
              "    </tr>\n",
              "    <tr>\n",
              "      <th>210</th>\n",
              "      <td>2010-12-28</td>\n",
              "      <td>22.218729</td>\n",
              "      <td>-0.214004</td>\n",
              "      <td>0.000027</td>\n",
              "    </tr>\n",
              "    <tr>\n",
              "      <th>211</th>\n",
              "      <td>2010-12-29</td>\n",
              "      <td>22.187006</td>\n",
              "      <td>-0.142878</td>\n",
              "      <td>0.000036</td>\n",
              "    </tr>\n",
              "    <tr>\n",
              "      <th>212</th>\n",
              "      <td>2010-12-30</td>\n",
              "      <td>22.091818</td>\n",
              "      <td>-0.429949</td>\n",
              "      <td>0.000029</td>\n",
              "    </tr>\n",
              "    <tr>\n",
              "      <th>213</th>\n",
              "      <td>2010-12-31</td>\n",
              "      <td>22.091818</td>\n",
              "      <td>0.000000</td>\n",
              "      <td>0.000000</td>\n",
              "    </tr>\n",
              "  </tbody>\n",
              "</table>\n",
              "<p>214 rows × 4 columns</p>\n",
              "</div>"
            ],
            "text/plain": [
              "          Date      Close      Return  Volatility\n",
              "0   2010-06-01  20.303335  301.078517    0.000389\n",
              "1   2010-06-02  20.750338    2.177735    0.000323\n",
              "2   2010-06-03  21.064024    1.500404    0.000138\n",
              "3   2010-06-04  20.224915   -4.065132    0.000608\n",
              "4   2010-06-05  20.224915    0.000000    0.000000\n",
              "..         ...        ...         ...         ...\n",
              "209 2010-12-27  22.266329   -0.816014    0.000064\n",
              "210 2010-12-28  22.218729   -0.214004    0.000027\n",
              "211 2010-12-29  22.187006   -0.142878    0.000036\n",
              "212 2010-12-30  22.091818   -0.429949    0.000029\n",
              "213 2010-12-31  22.091818    0.000000    0.000000\n",
              "\n",
              "[214 rows x 4 columns]"
            ]
          },
          "metadata": {
            "tags": []
          }
        },
        {
          "output_type": "stream",
          "text": [
            "Volatility over 30 days of MSFT Stock =  0.010984598977129384\n"
          ],
          "name": "stdout"
        }
      ]
    },
    {
      "cell_type": "markdown",
      "metadata": {
        "id": "cAXOZOG5gTLX"
      },
      "source": [
        "### Combining features of finance features and twitter features and cleaning dataframe"
      ]
    },
    {
      "cell_type": "code",
      "metadata": {
        "colab": {
          "base_uri": "https://localhost:8080/",
          "height": 494
        },
        "id": "sBJl08PcgXy-",
        "outputId": "3466bf85-3c67-452b-c338-833135e952aa"
      },
      "source": [
        "# Extracting desired colummns from twitter features and financial features\n",
        "x = date_wise_df.positive.array\n",
        "y = financial_features.Close.array\n",
        "z = date_wise_df.negative.array\n",
        "a = financial_features.Return.array\n",
        "b = date_wise_df.Bullishness.array\n",
        "c = financial_features.Volatility.array \n",
        "d = date_wise_df.Message_volume.array\n",
        "agreement = date_wise_df.Agreement.array\n",
        "date = financial_features.Date.array\n",
        "\n",
        "df = pd.DataFrame({'positive':x, 'close':y, 'negative':z, 'Return':a, 'bullishness':b, 'volatility':c, 'agreement':agreement, 'message_volume':d},columns=['positive','close', 'agreement', 'negative', 'Return', 'bullishness', 'volatility', 'message_volume'])\n",
        "\n",
        "df.index = date\n",
        "\n",
        "# Assigning 0 to rows where message_volume = 'nan'\n",
        "index = df.index[np.isinf(df).any(1)]\n",
        "for i in index:\n",
        "  df['message_volume'][i]=0\n",
        "\n",
        "display(df)"
      ],
      "execution_count": null,
      "outputs": [
        {
          "output_type": "stream",
          "text": [
            "/usr/local/lib/python3.7/dist-packages/ipykernel_launcher.py:19: SettingWithCopyWarning: \n",
            "A value is trying to be set on a copy of a slice from a DataFrame\n",
            "\n",
            "See the caveats in the documentation: https://pandas.pydata.org/pandas-docs/stable/user_guide/indexing.html#returning-a-view-versus-a-copy\n"
          ],
          "name": "stderr"
        },
        {
          "output_type": "display_data",
          "data": {
            "text/html": [
              "<div>\n",
              "<style scoped>\n",
              "    .dataframe tbody tr th:only-of-type {\n",
              "        vertical-align: middle;\n",
              "    }\n",
              "\n",
              "    .dataframe tbody tr th {\n",
              "        vertical-align: top;\n",
              "    }\n",
              "\n",
              "    .dataframe thead th {\n",
              "        text-align: right;\n",
              "    }\n",
              "</style>\n",
              "<table border=\"1\" class=\"dataframe\">\n",
              "  <thead>\n",
              "    <tr style=\"text-align: right;\">\n",
              "      <th></th>\n",
              "      <th>positive</th>\n",
              "      <th>close</th>\n",
              "      <th>agreement</th>\n",
              "      <th>negative</th>\n",
              "      <th>Return</th>\n",
              "      <th>bullishness</th>\n",
              "      <th>volatility</th>\n",
              "      <th>message_volume</th>\n",
              "    </tr>\n",
              "  </thead>\n",
              "  <tbody>\n",
              "    <tr>\n",
              "      <th>2010-06-01</th>\n",
              "      <td>27</td>\n",
              "      <td>20.303335</td>\n",
              "      <td>0.137338</td>\n",
              "      <td>16</td>\n",
              "      <td>301.078517</td>\n",
              "      <td>0.498991</td>\n",
              "      <td>0.000389</td>\n",
              "      <td>3.761200</td>\n",
              "    </tr>\n",
              "    <tr>\n",
              "      <th>2010-06-02</th>\n",
              "      <td>26</td>\n",
              "      <td>20.750338</td>\n",
              "      <td>0.183503</td>\n",
              "      <td>13</td>\n",
              "      <td>2.177735</td>\n",
              "      <td>0.656780</td>\n",
              "      <td>0.000323</td>\n",
              "      <td>3.663562</td>\n",
              "    </tr>\n",
              "    <tr>\n",
              "      <th>2010-06-03</th>\n",
              "      <td>64</td>\n",
              "      <td>21.064024</td>\n",
              "      <td>0.400855</td>\n",
              "      <td>14</td>\n",
              "      <td>1.500404</td>\n",
              "      <td>1.466337</td>\n",
              "      <td>0.000138</td>\n",
              "      <td>4.356709</td>\n",
              "    </tr>\n",
              "    <tr>\n",
              "      <th>2010-06-04</th>\n",
              "      <td>18</td>\n",
              "      <td>20.224915</td>\n",
              "      <td>0.046537</td>\n",
              "      <td>15</td>\n",
              "      <td>-4.065132</td>\n",
              "      <td>0.171850</td>\n",
              "      <td>0.000608</td>\n",
              "      <td>3.496508</td>\n",
              "    </tr>\n",
              "    <tr>\n",
              "      <th>2010-06-05</th>\n",
              "      <td>3</td>\n",
              "      <td>20.224915</td>\n",
              "      <td>-0.118034</td>\n",
              "      <td>5</td>\n",
              "      <td>0.000000</td>\n",
              "      <td>-0.405465</td>\n",
              "      <td>0.000000</td>\n",
              "      <td>2.079442</td>\n",
              "    </tr>\n",
              "    <tr>\n",
              "      <th>...</th>\n",
              "      <td>...</td>\n",
              "      <td>...</td>\n",
              "      <td>...</td>\n",
              "      <td>...</td>\n",
              "      <td>...</td>\n",
              "      <td>...</td>\n",
              "      <td>...</td>\n",
              "      <td>...</td>\n",
              "    </tr>\n",
              "    <tr>\n",
              "      <th>2010-12-27</th>\n",
              "      <td>8</td>\n",
              "      <td>22.266329</td>\n",
              "      <td>0.261451</td>\n",
              "      <td>3</td>\n",
              "      <td>-0.816014</td>\n",
              "      <td>0.810930</td>\n",
              "      <td>0.000064</td>\n",
              "      <td>2.397895</td>\n",
              "    </tr>\n",
              "    <tr>\n",
              "      <th>2010-12-28</th>\n",
              "      <td>11</td>\n",
              "      <td>22.218729</td>\n",
              "      <td>0.445300</td>\n",
              "      <td>2</td>\n",
              "      <td>-0.214004</td>\n",
              "      <td>1.386294</td>\n",
              "      <td>0.000027</td>\n",
              "      <td>2.564949</td>\n",
              "    </tr>\n",
              "    <tr>\n",
              "      <th>2010-12-29</th>\n",
              "      <td>7</td>\n",
              "      <td>22.187006</td>\n",
              "      <td>0.500000</td>\n",
              "      <td>1</td>\n",
              "      <td>-0.142878</td>\n",
              "      <td>1.386294</td>\n",
              "      <td>0.000036</td>\n",
              "      <td>2.079442</td>\n",
              "    </tr>\n",
              "    <tr>\n",
              "      <th>2010-12-30</th>\n",
              "      <td>46</td>\n",
              "      <td>22.091818</td>\n",
              "      <td>0.793716</td>\n",
              "      <td>1</td>\n",
              "      <td>-0.429949</td>\n",
              "      <td>3.157000</td>\n",
              "      <td>0.000029</td>\n",
              "      <td>3.850148</td>\n",
              "    </tr>\n",
              "    <tr>\n",
              "      <th>2010-12-31</th>\n",
              "      <td>110</td>\n",
              "      <td>22.091818</td>\n",
              "      <td>0.263083</td>\n",
              "      <td>41</td>\n",
              "      <td>0.000000</td>\n",
              "      <td>0.971861</td>\n",
              "      <td>0.000000</td>\n",
              "      <td>5.017280</td>\n",
              "    </tr>\n",
              "  </tbody>\n",
              "</table>\n",
              "<p>214 rows × 8 columns</p>\n",
              "</div>"
            ],
            "text/plain": [
              "            positive      close  ...  volatility  message_volume\n",
              "2010-06-01        27  20.303335  ...    0.000389        3.761200\n",
              "2010-06-02        26  20.750338  ...    0.000323        3.663562\n",
              "2010-06-03        64  21.064024  ...    0.000138        4.356709\n",
              "2010-06-04        18  20.224915  ...    0.000608        3.496508\n",
              "2010-06-05         3  20.224915  ...    0.000000        2.079442\n",
              "...              ...        ...  ...         ...             ...\n",
              "2010-12-27         8  22.266329  ...    0.000064        2.397895\n",
              "2010-12-28        11  22.218729  ...    0.000027        2.564949\n",
              "2010-12-29         7  22.187006  ...    0.000036        2.079442\n",
              "2010-12-30        46  22.091818  ...    0.000029        3.850148\n",
              "2010-12-31       110  22.091818  ...    0.000000        5.017280\n",
              "\n",
              "[214 rows x 8 columns]"
            ]
          },
          "metadata": {
            "tags": []
          }
        }
      ]
    },
    {
      "cell_type": "markdown",
      "metadata": {
        "id": "_PfRndCgg1PY"
      },
      "source": [
        "## Relationship among the features"
      ]
    },
    {
      "cell_type": "markdown",
      "metadata": {
        "id": "xhvmxdkDg_0W"
      },
      "source": [
        "### Generating Correlation Matrix"
      ]
    },
    {
      "cell_type": "code",
      "metadata": {
        "colab": {
          "base_uri": "https://localhost:8080/",
          "height": 346
        },
        "id": "zkdxtNXig35g",
        "outputId": "1b163438-74fe-42a9-c78f-c762355baa9d"
      },
      "source": [
        "corrMatrix = df.corr()\n",
        "sn.heatmap(corrMatrix, annot=True)\n",
        "plt.show()"
      ],
      "execution_count": null,
      "outputs": [
        {
          "output_type": "display_data",
          "data": {
            "image/png": "[encoded data removed]",
            "text/plain": [
              "<Figure size 432x288 with 2 Axes>"
            ]
          },
          "metadata": {
            "tags": [],
            "needs_background": "light"
          }
        }
      ]
    },
    {
      "cell_type": "markdown",
      "metadata": {
        "id": "xy4blxbKhuhm"
      },
      "source": [
        "### Checking Stationarity of the features using ADF Test"
      ]
    },
    {
      "cell_type": "code",
      "metadata": {
        "colab": {
          "base_uri": "https://localhost:8080/"
        },
        "id": "7vfe-3iZhyRb",
        "outputId": "8d64e649-c078-4153-fd56-692ac575f164"
      },
      "source": [
        "# Alpha is the threshold value which decides whether to reject or keep null hypothesis\n",
        "alpha = 0.05\n",
        "result = adfuller(df.Return)\n",
        "p_val = result[1]\n",
        "\n",
        "if p_val<=alpha:\n",
        "  print(\"Return data series is stationary.\")\n",
        "else:\n",
        "  print(\"Return data series is non-stationary.\")\n",
        "\n",
        "result = adfuller(df.close)\n",
        "p_val = result[1]\n",
        "\n",
        "if p_val<=alpha:\n",
        "  print(\"Close data series is stationary.\")\n",
        "else:\n",
        "  print(\"Close data series is non-stationary.\")\n",
        "\n",
        "result = adfuller(df.positive)\n",
        "p_val = result[1]\n",
        "\n",
        "if p_val<=alpha:\n",
        "  print(\"Positive data series is stationary.\")\n",
        "else:\n",
        "  print(\"Positive data series is non-stationary.\")\n",
        "\n",
        "result = adfuller(df.negative)\n",
        "p_val = result[1]\n",
        "\n",
        "if p_val<=alpha:\n",
        "  print(\"Negative data series is stationary.\")\n",
        "else:\n",
        "  print(\"Negative data series is non-stationary.\")\n",
        "\n",
        "result = adfuller(df.bullishness)\n",
        "p_val = result[1]\n",
        "\n",
        "if p_val<=alpha:\n",
        "  print(\"Bullishness data series is stationary.\")\n",
        "else:\n",
        "  print(\"Bullishness data series is non-stationary.\")\n",
        "\n",
        "result = adfuller(df.volatility)\n",
        "p_val = result[1]\n",
        "\n",
        "if p_val<=alpha:\n",
        "  print(\"Volatility data series is stationary.\")\n",
        "else:\n",
        "  print(\"Volatility data series is non-stationary.\")\n",
        "\n",
        "result = adfuller(df.message_volume)\n",
        "p_val = result[1]\n",
        "\n",
        "if p_val<=alpha:\n",
        "  print(\"Message_volume data series is stationary.\")\n",
        "else:\n",
        "  print(\"Message_volume data series is non-stationary.\")\n",
        "\n",
        "result = adfuller(df.agreement)\n",
        "p_val = result[1]\n",
        "\n",
        "if p_val<=alpha:\n",
        "  print(\"Agreement data series is stationary.\")\n",
        "else:\n",
        "  print(\"Agreement data series is non-stationary.\")"
      ],
      "execution_count": null,
      "outputs": [
        {
          "output_type": "stream",
          "text": [
            "Return data series is stationary.\n",
            "Close data series is non-stationary.\n",
            "Positive data series is stationary.\n",
            "Negative data series is stationary.\n",
            "Bullishness data series is stationary.\n",
            "Volatility data series is stationary.\n",
            "Message_volume data series is non-stationary.\n",
            "Agreement data series is stationary.\n"
          ],
          "name": "stdout"
        }
      ]
    },
    {
      "cell_type": "markdown",
      "metadata": {
        "id": "1wmIxVfciAT-"
      },
      "source": [
        "### Finding maximum lag using F-test"
      ]
    },
    {
      "cell_type": "code",
      "metadata": {
        "colab": {
          "base_uri": "https://localhost:8080/",
          "height": 718
        },
        "id": "FdBquafph_1G",
        "outputId": "72f2e1e8-ec23-48f0-8f9b-b451f060d1f8"
      },
      "source": [
        "lag = 5\n",
        "\n",
        "# Calling granger Causality Test for all of the lag\n",
        "test_result = grangercausalitytests(df[['positive', 'close']], lag)\n",
        "\n",
        "# Assigning p values of GCA of chi test\n",
        "p_vals = [test_result[i+1][0]['ssr_chi2test'][1] for i in range(lag)]\n",
        "\n",
        "# Storing lag value and corresponding f value in an array\n",
        "f_lag_vals = [(test_result[i+1][0]['ssr_ftest'][0], test_result[i+1][0]['ssr_ftest'][3]) for i in range(lag)]\n",
        "\n",
        "display(\"Min p-values: \", np.min(p_vals))\n",
        "\n",
        "print(\"F-test values: \", f_lag_vals)\n",
        "\n",
        "mx = -math.inf\n",
        "mx_lag = -1\n",
        "\n",
        "# Finding the lag which has maximum f value\n",
        "for i in range(lag):\n",
        "  if f_lag_vals[i][0] > mx:\n",
        "    mx = f_lag_vals[i][0]\n",
        "    mx_lag = f_lag_vals[i][1]\n",
        "\n",
        "print(\"Lag with max F-test value: \", mx_lag)"
      ],
      "execution_count": null,
      "outputs": [
        {
          "output_type": "stream",
          "text": [
            "\n",
            "Granger Causality\n",
            "number of lags (no zero) 1\n",
            "ssr based F test:         F=1.2000  , p=0.2746  , df_denom=210, df_num=1\n",
            "ssr based chi2 test:   chi2=1.2171  , p=0.2699  , df=1\n",
            "likelihood ratio test: chi2=1.2136  , p=0.2706  , df=1\n",
            "parameter F test:         F=1.2000  , p=0.2746  , df_denom=210, df_num=1\n",
            "\n",
            "Granger Causality\n",
            "number of lags (no zero) 2\n",
            "ssr based F test:         F=1.4709  , p=0.2321  , df_denom=207, df_num=2\n",
            "ssr based chi2 test:   chi2=3.0129  , p=0.2217  , df=2\n",
            "likelihood ratio test: chi2=2.9917  , p=0.2241  , df=2\n",
            "parameter F test:         F=1.4709  , p=0.2321  , df_denom=207, df_num=2\n",
            "\n",
            "Granger Causality\n",
            "number of lags (no zero) 3\n",
            "ssr based F test:         F=1.2783  , p=0.2829  , df_denom=204, df_num=3\n",
            "ssr based chi2 test:   chi2=3.9664  , p=0.2651  , df=3\n",
            "likelihood ratio test: chi2=3.9296  , p=0.2692  , df=3\n",
            "parameter F test:         F=1.2783  , p=0.2829  , df_denom=204, df_num=3\n",
            "\n",
            "Granger Causality\n",
            "number of lags (no zero) 4\n",
            "ssr based F test:         F=1.0109  , p=0.4028  , df_denom=201, df_num=4\n",
            "ssr based chi2 test:   chi2=4.2249  , p=0.3764  , df=4\n",
            "likelihood ratio test: chi2=4.1829  , p=0.3818  , df=4\n",
            "parameter F test:         F=1.0109  , p=0.4028  , df_denom=201, df_num=4\n",
            "\n",
            "Granger Causality\n",
            "number of lags (no zero) 5\n",
            "ssr based F test:         F=1.0813  , p=0.3720  , df_denom=198, df_num=5\n",
            "ssr based chi2 test:   chi2=5.7067  , p=0.3358  , df=5\n",
            "likelihood ratio test: chi2=5.6301  , p=0.3439  , df=5\n",
            "parameter F test:         F=1.0813  , p=0.3720  , df_denom=198, df_num=5\n"
          ],
          "name": "stdout"
        },
        {
          "output_type": "display_data",
          "data": {
            "application/vnd.google.colaboratory.intrinsic+json": {
              "type": "string"
            },
            "text/plain": [
              "'Min p-values: '"
            ]
          },
          "metadata": {
            "tags": []
          }
        },
        {
          "output_type": "display_data",
          "data": {
            "text/plain": [
              "0.2216906286570747"
            ]
          },
          "metadata": {
            "tags": []
          }
        },
        {
          "output_type": "stream",
          "text": [
            "F-test values:  [(1.1999525681722722, 1), (1.4709424234046762, 2), (1.2782857662019411, 3), (1.0109488157870516, 4), (1.0812632706102923, 5)]\n",
            "Lag with max F-test value:  2\n"
          ],
          "name": "stdout"
        }
      ]
    },
    {
      "cell_type": "markdown",
      "metadata": {
        "id": "2dYzkkfkiN1I"
      },
      "source": [
        "### Converting Non-Stationary series to Stationary series"
      ]
    },
    {
      "cell_type": "code",
      "metadata": {
        "colab": {
          "base_uri": "https://localhost:8080/"
        },
        "id": "rmO7aMumiOzw",
        "outputId": "5272591c-89b5-4292-8f85-bdf3126d7618"
      },
      "source": [
        "close = df.close.array\n",
        "message_volume = df.message_volume.array\n",
        "original = len(close)\n",
        "\n",
        "# Using diff function, it converts non-stationary to stationary series with the lag given\n",
        "close = np.diff(close, n=mx_lag)\n",
        "message_volume = np.diff(message_volume, n=mx_lag)\n",
        "\n",
        "for i in range(original-len(close)):\n",
        "  close = np.concatenate((close, [0]))\n",
        "\n",
        "result = adfuller(close)\n",
        "p_val = result[1]\n",
        "\n",
        "if p_val<=alpha:\n",
        "  print(\"Close data series is stationary.\")\n",
        "else:\n",
        "  print(\"Close data series is non-stationary.\")\n",
        "\n",
        "result = adfuller(message_volume)\n",
        "p_val = result[1]\n",
        "\n",
        "if p_val<=alpha:\n",
        "  print(\"Message_volume data series is stationary.\")\n",
        "else:\n",
        "  print(\"Message_volume data series is non-stationary.\")"
      ],
      "execution_count": null,
      "outputs": [
        {
          "output_type": "stream",
          "text": [
            "Close data series is stationary.\n",
            "Message_volume data series is stationary.\n"
          ],
          "name": "stdout"
        }
      ]
    },
    {
      "cell_type": "markdown",
      "metadata": {
        "id": "Rlv5q0XIiWaR"
      },
      "source": [
        "### Granger's Causality Analysis (GCA)"
      ]
    },
    {
      "cell_type": "code",
      "metadata": {
        "colab": {
          "base_uri": "https://localhost:8080/",
          "height": 357
        },
        "id": "JFPoF5CViZ_a",
        "outputId": "8e789792-dab0-4c67-8caf-5146ed344c7f"
      },
      "source": [
        "maxlag=mx_lag\n",
        "\n",
        "test = 'ssr-chi2test'\n",
        "# Function which generates GCA matrix and its arguments are dataframe, its features,\n",
        "# the test and verbose (whether to print anything or not)\n",
        "def grangers_causality_matrix(data, variables, test = 'ssr_chi2test', verbose=False):\n",
        "\n",
        "    # Initializing data frame with zeros \n",
        "    dataset = pd.DataFrame(np.zeros((len(variables), len(variables))), columns=variables, index=variables)\n",
        "\n",
        "    # Iterating through each of the columns and rows and assigning gca test result's min p value of all the lags\n",
        "    for c in dataset.columns:\n",
        "        for r in dataset.index:\n",
        "            test_result = grangercausalitytests(data[[r,c]], maxlag=maxlag, verbose=False)\n",
        "            p_values = [round(test_result[i+1][0][test][1],4) for i in range(maxlag)]\n",
        "            if verbose: print(f'Y = {r}, X = {c}, P Values = {p_values}')\n",
        "\n",
        "            min_p_value = np.min(p_values)\n",
        "            dataset.loc[r,c] = min_p_value\n",
        "\n",
        "    dataset.columns = [var + '_x' for var in variables]\n",
        "\n",
        "    dataset.index = [var + '_y' for var in variables]\n",
        "\n",
        "    return dataset\n",
        "\n",
        "dataset = grangers_causality_matrix(df, variables=df.columns)\n",
        "\n",
        "# produces heatmap of a matrix\n",
        "sn.heatmap(dataset, annot=True)\n",
        "plt.show()"
      ],
      "execution_count": null,
      "outputs": [
        {
          "output_type": "display_data",
          "data": {
            "image/png": "[encoded data removed]",
            "text/plain": [
              "<Figure size 432x288 with 2 Axes>"
            ]
          },
          "metadata": {
            "tags": [],
            "needs_background": "light"
          }
        }
      ]
    },
    {
      "cell_type": "markdown",
      "metadata": {
        "id": "tFErCnwK4Fct"
      },
      "source": [
        "### Inference From Above GCA Matrix:\n",
        "- Positive tweets, Negative tweets, Return causes Close prices.\n",
        "- Message_volume causes Positive tweets and Negative tweets.\n",
        "- Positive tweets, negative tweets causes Return."
      ]
    },
    {
      "cell_type": "markdown",
      "metadata": {
        "id": "tG3K4BiRirif"
      },
      "source": [
        "### Dropping Less Important Columns"
      ]
    },
    {
      "cell_type": "code",
      "metadata": {
        "colab": {
          "base_uri": "https://localhost:8080/",
          "height": 196
        },
        "id": "b4dChHR-ip4U",
        "outputId": "109420e7-1d85-4c83-9a2b-bec10d963c73"
      },
      "source": [
        "df = df.drop(columns=['agreement', 'bullishness', 'volatility', 'message_volume'])\n",
        "\n",
        "display(df.head())"
      ],
      "execution_count": null,
      "outputs": [
        {
          "output_type": "display_data",
          "data": {
            "text/html": [
              "<div>\n",
              "<style scoped>\n",
              "    .dataframe tbody tr th:only-of-type {\n",
              "        vertical-align: middle;\n",
              "    }\n",
              "\n",
              "    .dataframe tbody tr th {\n",
              "        vertical-align: top;\n",
              "    }\n",
              "\n",
              "    .dataframe thead th {\n",
              "        text-align: right;\n",
              "    }\n",
              "</style>\n",
              "<table border=\"1\" class=\"dataframe\">\n",
              "  <thead>\n",
              "    <tr style=\"text-align: right;\">\n",
              "      <th></th>\n",
              "      <th>positive</th>\n",
              "      <th>close</th>\n",
              "      <th>negative</th>\n",
              "      <th>Return</th>\n",
              "    </tr>\n",
              "  </thead>\n",
              "  <tbody>\n",
              "    <tr>\n",
              "      <th>2010-06-01</th>\n",
              "      <td>27</td>\n",
              "      <td>20.303335</td>\n",
              "      <td>16</td>\n",
              "      <td>301.078517</td>\n",
              "    </tr>\n",
              "    <tr>\n",
              "      <th>2010-06-02</th>\n",
              "      <td>26</td>\n",
              "      <td>20.750338</td>\n",
              "      <td>13</td>\n",
              "      <td>2.177735</td>\n",
              "    </tr>\n",
              "    <tr>\n",
              "      <th>2010-06-03</th>\n",
              "      <td>64</td>\n",
              "      <td>21.064024</td>\n",
              "      <td>14</td>\n",
              "      <td>1.500404</td>\n",
              "    </tr>\n",
              "    <tr>\n",
              "      <th>2010-06-04</th>\n",
              "      <td>18</td>\n",
              "      <td>20.224915</td>\n",
              "      <td>15</td>\n",
              "      <td>-4.065132</td>\n",
              "    </tr>\n",
              "    <tr>\n",
              "      <th>2010-06-05</th>\n",
              "      <td>3</td>\n",
              "      <td>20.224915</td>\n",
              "      <td>5</td>\n",
              "      <td>0.000000</td>\n",
              "    </tr>\n",
              "  </tbody>\n",
              "</table>\n",
              "</div>"
            ],
            "text/plain": [
              "            positive      close  negative      Return\n",
              "2010-06-01        27  20.303335        16  301.078517\n",
              "2010-06-02        26  20.750338        13    2.177735\n",
              "2010-06-03        64  21.064024        14    1.500404\n",
              "2010-06-04        18  20.224915        15   -4.065132\n",
              "2010-06-05         3  20.224915         5    0.000000"
            ]
          },
          "metadata": {
            "tags": []
          }
        }
      ]
    },
    {
      "cell_type": "markdown",
      "metadata": {
        "id": "xnnQH5bQmyVc"
      },
      "source": [
        "## Prediction and Forecasting"
      ]
    },
    {
      "cell_type": "markdown",
      "metadata": {
        "id": "tjVASeNI5viw"
      },
      "source": [
        "### Separating Trend, seasonality from series\n",
        "\n",
        "- Trend: The increasing or decreasing value in the series. \n",
        "- Seasonality: The repeating short-term cycle in the series.\n",
        "- It also provides access to the residuals, which are the time series after the trend, and seasonal components are removed."
      ]
    },
    {
      "cell_type": "code",
      "metadata": {
        "colab": {
          "base_uri": "https://localhost:8080/",
          "height": 642
        },
        "id": "-M1dubcojt15",
        "outputId": "672f96d5-b46f-46f3-fea2-f28c451136bd"
      },
      "source": [
        "df_close = hist['Close']\n",
        "window_size=5\n",
        "result = seasonal_decompose(df_close, model='multiplicative', freq = window_size)\n",
        "fig = plt.figure()  \n",
        "fig = result.plot()  \n",
        "fig.set_size_inches(16, 9)"
      ],
      "execution_count": null,
      "outputs": [
        {
          "output_type": "stream",
          "text": [
            "/usr/local/lib/python3.7/dist-packages/ipykernel_launcher.py:3: FutureWarning: the 'freq'' keyword is deprecated, use 'period' instead\n",
            "  This is separate from the ipykernel package so we can avoid doing imports until\n"
          ],
          "name": "stderr"
        },
        {
          "output_type": "display_data",
          "data": {
            "text/plain": [
              "<Figure size 432x288 with 0 Axes>"
            ]
          },
          "metadata": {
            "tags": []
          }
        },
        {
          "output_type": "display_data",
          "data": {
            "image/png": "[encoded data removed]",
            "text/plain": [
              "<Figure size 1152x648 with 4 Axes>"
            ]
          },
          "metadata": {
            "tags": [],
            "needs_background": "light"
          }
        }
      ]
    },
    {
      "cell_type": "markdown",
      "metadata": {
        "id": "GJlDEBhqk1NY"
      },
      "source": [
        "### Splitting data into Train and Test and visualizing\n",
        "\n",
        "Train:Test = 80:20"
      ]
    },
    {
      "cell_type": "code",
      "metadata": {
        "colab": {
          "base_uri": "https://localhost:8080/",
          "height": 406
        },
        "id": "kj40QMZwk1jU",
        "outputId": "953bdab0-3a9b-402f-9e1b-375146495458"
      },
      "source": [
        "df_log = (hist['Close'])\n",
        "train_data, test_data = df_log[:int(len(df_log)*0.8)], df_log[int(len(df_log)*0.8):]\n",
        "plt.figure(figsize=(10,6))\n",
        "plt.grid(True)\n",
        "plt.xlabel('Dates')\n",
        "plt.ylabel('Closing Prices')\n",
        "plt.plot(df_log, 'orange', label='Train data')\n",
        "plt.plot(test_data, 'blue', label='Test data')\n",
        "plt.legend()"
      ],
      "execution_count": null,
      "outputs": [
        {
          "output_type": "execute_result",
          "data": {
            "text/plain": [
              "<matplotlib.legend.Legend at 0x7f68d378b890>"
            ]
          },
          "metadata": {
            "tags": []
          },
          "execution_count": 23
        },
        {
          "output_type": "display_data",
          "data": {
            "image/png": "[encoded data removed]",
            "text/plain": [
              "<Figure size 720x432 with 1 Axes>"
            ]
          },
          "metadata": {
            "tags": [],
            "needs_background": "light"
          }
        }
      ]
    },
    {
      "cell_type": "markdown",
      "metadata": {
        "id": "9vvMO7WJqzM6"
      },
      "source": [
        "### ARIMA Model"
      ]
    },
    {
      "cell_type": "markdown",
      "metadata": {
        "id": "F732y4kplG3j"
      },
      "source": [
        "#### Defining optimal p, d, q vals using auto_arima\n",
        "\n",
        "- A nonseasonal ARIMA model is classified as an \"ARIMA(p,d,q)\" model, where: p is the number of autoregressive terms, d is the number of nonseasonal differences needed for stationarity, and q is the number of lagged forecast errors in the prediction equation.\n",
        "\n",
        "> p = #AR-Terms = Autoregressive Terms\n",
        "- An AR(1) autoregressive process is one in which the current value is based on the immediately preceding value, while an AR(2) process is one in which the current value is based on the previous two values. An AR(0) process is used for white noise and has no dependence between the terms.\n",
        "\n",
        "* Q = Lagged forecast error terms = Moving Average Terms\n",
        "\n",
        "##### What is AIC?\n",
        "- The Akaike information criterion (AIC) is an estimator of prediction error and thereby relative quality of statistical models for a given set of data. ... AIC estimates the relative amount of information lost by a given model: the less information a model loses, the higher the quality of that model.\n",
        "\n",
        "##### Use of AIC?\n",
        "- Akaike's Information Criterion (AIC), which was useful in selecting predictors for regression, is also useful for determining the order of an ARIMA model.\n",
        "\n",
        "<img src=\"https://otexts.com/fpp2/arimaflowchart.png\" alt=\"Drawing\" height=\"800\" width=\"600\"/>\n",
        "\n",
        "*Figure 1: General process for forecasting using an ARIMA model.*\n"
      ]
    },
    {
      "cell_type": "code",
      "metadata": {
        "colab": {
          "base_uri": "https://localhost:8080/"
        },
        "id": "-o8yflLClHQM",
        "outputId": "4f393c70-a5c4-40b8-d601-465a65833c18"
      },
      "source": [
        "model_autoARIMA = auto_arima(train_data, start_p=0, start_q=0,\n",
        "test='adf',           # use adftest to find optimal 'd'\n",
        "max_p=window_size, max_q=window_size, # maximum p and q\n",
        "m=1,                 # frequency of series\n",
        "d=0,                 # let model determine 'd'\n",
        "seasonal=False,      # No Seasonality\n",
        "# start_P=0,           # Seasonal model parameter\n",
        "# D=0,              # Seasonal model parameter \n",
        "trace=True,\n",
        "error_action='ignore',  \n",
        "suppress_warnings=True, \n",
        "max_order = window_size,\n",
        "stepwise=True)\n",
        "print(model_autoARIMA.summary())"
      ],
      "execution_count": null,
      "outputs": [
        {
          "output_type": "stream",
          "text": [
            "Performing stepwise search to minimize aic\n",
            " ARIMA(0,0,0)(0,0,0)[0]             : AIC=1050.478, Time=0.07 sec\n",
            " ARIMA(1,0,0)(0,0,0)[0]             : AIC=inf, Time=0.03 sec\n",
            " ARIMA(0,0,1)(0,0,0)[0]             : AIC=inf, Time=0.08 sec\n",
            " ARIMA(1,0,1)(0,0,0)[0]             : AIC=54.999, Time=0.09 sec\n",
            " ARIMA(2,0,1)(0,0,0)[0]             : AIC=52.411, Time=0.36 sec\n",
            " ARIMA(2,0,0)(0,0,0)[0]             : AIC=inf, Time=0.08 sec\n",
            " ARIMA(3,0,1)(0,0,0)[0]             : AIC=54.136, Time=0.24 sec\n",
            " ARIMA(2,0,2)(0,0,0)[0]             : AIC=inf, Time=0.31 sec\n",
            " ARIMA(1,0,2)(0,0,0)[0]             : AIC=55.733, Time=0.16 sec\n",
            " ARIMA(3,0,0)(0,0,0)[0]             : AIC=inf, Time=0.11 sec\n",
            " ARIMA(3,0,2)(0,0,0)[0]             : AIC=57.946, Time=0.44 sec\n",
            " ARIMA(2,0,1)(0,0,0)[0] intercept   : AIC=42.741, Time=0.35 sec\n",
            " ARIMA(1,0,1)(0,0,0)[0] intercept   : AIC=45.196, Time=0.13 sec\n",
            " ARIMA(2,0,0)(0,0,0)[0] intercept   : AIC=44.989, Time=0.06 sec\n",
            " ARIMA(3,0,1)(0,0,0)[0] intercept   : AIC=45.418, Time=0.45 sec\n",
            " ARIMA(2,0,2)(0,0,0)[0] intercept   : AIC=45.015, Time=0.54 sec\n",
            " ARIMA(1,0,0)(0,0,0)[0] intercept   : AIC=43.922, Time=0.10 sec\n",
            " ARIMA(1,0,2)(0,0,0)[0] intercept   : AIC=44.817, Time=0.34 sec\n",
            " ARIMA(3,0,0)(0,0,0)[0] intercept   : AIC=44.593, Time=0.25 sec\n",
            " ARIMA(3,0,2)(0,0,0)[0] intercept   : AIC=47.050, Time=0.46 sec\n",
            "\n",
            "Best model:  ARIMA(2,0,1)(0,0,0)[0] intercept\n",
            "Total fit time: 4.644 seconds\n",
            "                               SARIMAX Results                                \n",
            "==============================================================================\n",
            "Dep. Variable:                      y   No. Observations:                  119\n",
            "Model:               SARIMAX(2, 0, 1)   Log Likelihood                 -16.370\n",
            "Date:                Sun, 11 Apr 2021   AIC                             42.741\n",
            "Time:                        09:20:34   BIC                             56.637\n",
            "Sample:                             0   HQIC                            48.384\n",
            "                                - 119                                         \n",
            "Covariance Type:                  opg                                         \n",
            "==============================================================================\n",
            "                 coef    std err          z      P>|z|      [0.025      0.975]\n",
            "------------------------------------------------------------------------------\n",
            "intercept      2.7707      1.359      2.039      0.041       0.108       5.433\n",
            "ar.L1          0.1172      0.122      0.960      0.337      -0.122       0.356\n",
            "ar.L2          0.7436      0.107      6.955      0.000       0.534       0.953\n",
            "ma.L1          0.9370      0.068     13.718      0.000       0.803       1.071\n",
            "sigma2         0.0756      0.008      9.449      0.000       0.060       0.091\n",
            "===================================================================================\n",
            "Ljung-Box (L1) (Q):                   0.00   Jarque-Bera (JB):                12.20\n",
            "Prob(Q):                              0.95   Prob(JB):                         0.00\n",
            "Heteroskedasticity (H):               0.46   Skew:                             0.43\n",
            "Prob(H) (two-sided):                  0.02   Kurtosis:                         4.31\n",
            "===================================================================================\n",
            "\n",
            "Warnings:\n",
            "[1] Covariance matrix calculated using the outer product of gradients (complex-step).\n"
          ],
          "name": "stdout"
        }
      ]
    },
    {
      "cell_type": "markdown",
      "metadata": {
        "id": "MdI0dCMomi1g"
      },
      "source": [
        "#### Defining ARIMA Model"
      ]
    },
    {
      "cell_type": "code",
      "metadata": {
        "colab": {
          "base_uri": "https://localhost:8080/"
        },
        "id": "6SbqSqU8mib6",
        "outputId": "375794ec-c463-4082-c23d-6fedb6b701b5"
      },
      "source": [
        "model = ARIMA(train_data, order=(2, 0, 1)) # Most optimal p, d, q values\n",
        "fitted = model.fit(disp=1)\n",
        "\n",
        "print(fitted.summary())"
      ],
      "execution_count": null,
      "outputs": [
        {
          "output_type": "stream",
          "text": [
            "/usr/local/lib/python3.7/dist-packages/statsmodels/tsa/arima_model.py:472: FutureWarning: \n",
            "statsmodels.tsa.arima_model.ARMA and statsmodels.tsa.arima_model.ARIMA have\n",
            "been deprecated in favor of statsmodels.tsa.arima.model.ARIMA (note the .\n",
            "between arima and model) and\n",
            "statsmodels.tsa.SARIMAX. These will be removed after the 0.12 release.\n",
            "\n",
            "statsmodels.tsa.arima.model.ARIMA makes use of the statespace framework and\n",
            "is both well tested and maintained.\n",
            "\n",
            "To silence this warning and continue using ARMA and ARIMA until they are\n",
            "removed, use:\n",
            "\n",
            "import warnings\n",
            "warnings.filterwarnings('ignore', 'statsmodels.tsa.arima_model.ARMA',\n",
            "                        FutureWarning)\n",
            "warnings.filterwarnings('ignore', 'statsmodels.tsa.arima_model.ARIMA',\n",
            "                        FutureWarning)\n",
            "\n",
            "  warnings.warn(ARIMA_DEPRECATION_WARN, FutureWarning)\n",
            "/usr/local/lib/python3.7/dist-packages/statsmodels/tsa/base/tsa_model.py:583: ValueWarning: A date index has been provided, but it has no associated frequency information and so will be ignored when e.g. forecasting.\n",
            "  ' ignored when e.g. forecasting.', ValueWarning)\n"
          ],
          "name": "stderr"
        },
        {
          "output_type": "stream",
          "text": [
            "                              ARMA Model Results                              \n",
            "==============================================================================\n",
            "Dep. Variable:                  Close   No. Observations:                  119\n",
            "Model:                     ARMA(2, 1)   Log Likelihood                 -16.852\n",
            "Method:                       css-mle   S.D. of innovations              0.276\n",
            "Date:                Sun, 11 Apr 2021   AIC                             43.704\n",
            "Time:                        09:20:34   BIC                             57.599\n",
            "Sample:                             0   HQIC                            49.346\n",
            "                                                                              \n",
            "===============================================================================\n",
            "                  coef    std err          z      P>|z|      [0.025      0.975]\n",
            "-------------------------------------------------------------------------------\n",
            "const          19.7664      0.268     73.826      0.000      19.242      20.291\n",
            "ar.L1.Close     1.8597      0.314      5.920      0.000       1.244       2.475\n",
            "ar.L2.Close    -0.8803      0.278     -3.172      0.002      -1.424      -0.336\n",
            "ma.L1.Close    -0.8685      0.437     -1.986      0.047      -1.725      -0.012\n",
            "                                    Roots                                    \n",
            "=============================================================================\n",
            "                  Real          Imaginary           Modulus         Frequency\n",
            "-----------------------------------------------------------------------------\n",
            "AR.1            1.0563           -0.1422j            1.0658           -0.0213\n",
            "AR.2            1.0563           +0.1422j            1.0658            0.0213\n",
            "MA.1            1.1514           +0.0000j            1.1514            0.0000\n",
            "-----------------------------------------------------------------------------\n"
          ],
          "name": "stdout"
        }
      ]
    },
    {
      "cell_type": "markdown",
      "metadata": {
        "id": "7lbxJRIEmtCk"
      },
      "source": [
        "#### Forecasting"
      ]
    },
    {
      "cell_type": "code",
      "metadata": {
        "id": "GUqocJ43muoE"
      },
      "source": [
        "# Forecast\n",
        "# 95% confidence\n",
        "# alpha = 1 - (confidence%)/100\n",
        "fc, se, conf = fitted.forecast(len(test_data), alpha=0.05)  "
      ],
      "execution_count": null,
      "outputs": []
    },
    {
      "cell_type": "markdown",
      "metadata": {
        "id": "tRSgcCktnoQE"
      },
      "source": [
        "#### Visualizing Forecast Values"
      ]
    },
    {
      "cell_type": "code",
      "metadata": {
        "colab": {
          "base_uri": "https://localhost:8080/",
          "height": 470
        },
        "id": "SOYggX2anpXj",
        "outputId": "c8aab6db-7e8f-4d19-c3db-f174c8588c0d"
      },
      "source": [
        "# Converts forecast array to series with index of dates\n",
        "fc_series = pd.Series(fc, index=test_data.index)\n",
        "\n",
        "# LCL = Lower confidence limit is minimum value of the forecast\n",
        "lower_series = pd.Series(conf[:, 0], index=test_data.index)\n",
        "\n",
        "# UCL = Upper Confidence Limit is maximum value of the forcast\n",
        "upper_series = pd.Series(conf[:, 1], index=test_data.index)\n",
        "\n",
        "plt.figure(figsize=(12,5), dpi=100)\n",
        "plt.plot(train_data, label='training')\n",
        "plt.plot(test_data, color = 'blue', label='Actual Stock Price')\n",
        "plt.plot(fc_series, color = 'orange',label='Predicted Stock Price')\n",
        "plt.fill_between(lower_series.index, lower_series, upper_series, \n",
        "                 color='k', alpha=.10)\n",
        "plt.title('MSFT Stock Price Prediction')\n",
        "plt.xlabel('Time')\n",
        "plt.ylabel('Actual Stock Price')\n",
        "plt.legend(loc='upper left', fontsize=8)\n",
        "plt.show()"
      ],
      "execution_count": null,
      "outputs": [
        {
          "output_type": "display_data",
          "data": {
            "image/png": "[encoded data removed]",
            "text/plain": [
              "<Figure size 1200x500 with 1 Axes>"
            ]
          },
          "metadata": {
            "tags": [],
            "needs_background": "light"
          }
        }
      ]
    },
    {
      "cell_type": "markdown",
      "metadata": {
        "id": "iLCWxfXVn-fB"
      },
      "source": [
        "#### RMSE Computation for ARIMA Model"
      ]
    },
    {
      "cell_type": "code",
      "metadata": {
        "colab": {
          "base_uri": "https://localhost:8080/"
        },
        "id": "5YIN9AXJoBDz",
        "outputId": "a152d95a-c4c3-4fb7-c3f9-6a73f8681568"
      },
      "source": [
        "print(\"[RMSE] Root Mean Squared Error =\", math.sqrt(mean_squared_error(test_data, fc)))\n",
        "\n",
        "# print(math.sqrt(np.sum(se)/(len(test_data)*len(test_data))))"
      ],
      "execution_count": null,
      "outputs": [
        {
          "output_type": "stream",
          "text": [
            "[RMSE] Root Mean Squared Error = 1.987916046232329\n"
          ],
          "name": "stdout"
        }
      ]
    },
    {
      "cell_type": "markdown",
      "metadata": {
        "id": "BOHtX9GioUXf"
      },
      "source": [
        "### Linear Regression \n",
        "- Here, we are performing linear regression on data with columns = ['positive tweets', 'negative tweets', 'Close price', 'Return'].\n",
        "- And the predicting column is 'Close price'.\n",
        "- The method for performing LinearRegression is using Ordinary Least Squares."
      ]
    },
    {
      "cell_type": "markdown",
      "metadata": {
        "id": "xzkKlCWipCrh"
      },
      "source": [
        "#### Data Defining for Linear Regression"
      ]
    },
    {
      "cell_type": "code",
      "metadata": {
        "colab": {
          "base_uri": "https://localhost:8080/",
          "height": 304
        },
        "id": "KA5wbOA7pGTT",
        "outputId": "68dcd8c9-6802-4c8b-95c6-ec471b57d666"
      },
      "source": [
        "df['close_yesterday']=df.close.shift(1).array\n",
        "df['close_yesterday'][0]=df['close'][0]\n",
        "\n",
        "x=df[['positive','close_yesterday','negative']]\n",
        "y=df['close']\n",
        "\n",
        "# Splitting training and test into 70:30 ratio\n",
        "X_train = x[:int(0.7*len(x))]\n",
        "y_train = y[:int(0.7*len(y))]\n",
        "X_test = x[int(0.7*len(x)):]\n",
        "y_test = y[int(0.7*len(y)):]\n",
        "\n",
        "display(df.head())"
      ],
      "execution_count": null,
      "outputs": [
        {
          "output_type": "stream",
          "text": [
            "/usr/local/lib/python3.7/dist-packages/ipykernel_launcher.py:2: SettingWithCopyWarning: \n",
            "A value is trying to be set on a copy of a slice from a DataFrame\n",
            "\n",
            "See the caveats in the documentation: https://pandas.pydata.org/pandas-docs/stable/user_guide/indexing.html#returning-a-view-versus-a-copy\n",
            "  \n"
          ],
          "name": "stderr"
        },
        {
          "output_type": "display_data",
          "data": {
            "text/html": [
              "<div>\n",
              "<style scoped>\n",
              "    .dataframe tbody tr th:only-of-type {\n",
              "        vertical-align: middle;\n",
              "    }\n",
              "\n",
              "    .dataframe tbody tr th {\n",
              "        vertical-align: top;\n",
              "    }\n",
              "\n",
              "    .dataframe thead th {\n",
              "        text-align: right;\n",
              "    }\n",
              "</style>\n",
              "<table border=\"1\" class=\"dataframe\">\n",
              "  <thead>\n",
              "    <tr style=\"text-align: right;\">\n",
              "      <th></th>\n",
              "      <th>positive</th>\n",
              "      <th>close</th>\n",
              "      <th>negative</th>\n",
              "      <th>Return</th>\n",
              "      <th>close_yesterday</th>\n",
              "    </tr>\n",
              "  </thead>\n",
              "  <tbody>\n",
              "    <tr>\n",
              "      <th>2010-06-01</th>\n",
              "      <td>27</td>\n",
              "      <td>20.303335</td>\n",
              "      <td>16</td>\n",
              "      <td>301.078517</td>\n",
              "      <td>20.303335</td>\n",
              "    </tr>\n",
              "    <tr>\n",
              "      <th>2010-06-02</th>\n",
              "      <td>26</td>\n",
              "      <td>20.750338</td>\n",
              "      <td>13</td>\n",
              "      <td>2.177735</td>\n",
              "      <td>20.303335</td>\n",
              "    </tr>\n",
              "    <tr>\n",
              "      <th>2010-06-03</th>\n",
              "      <td>64</td>\n",
              "      <td>21.064024</td>\n",
              "      <td>14</td>\n",
              "      <td>1.500404</td>\n",
              "      <td>20.750338</td>\n",
              "    </tr>\n",
              "    <tr>\n",
              "      <th>2010-06-04</th>\n",
              "      <td>18</td>\n",
              "      <td>20.224915</td>\n",
              "      <td>15</td>\n",
              "      <td>-4.065132</td>\n",
              "      <td>21.064024</td>\n",
              "    </tr>\n",
              "    <tr>\n",
              "      <th>2010-06-05</th>\n",
              "      <td>3</td>\n",
              "      <td>20.224915</td>\n",
              "      <td>5</td>\n",
              "      <td>0.000000</td>\n",
              "      <td>20.224915</td>\n",
              "    </tr>\n",
              "  </tbody>\n",
              "</table>\n",
              "</div>"
            ],
            "text/plain": [
              "            positive      close  negative      Return  close_yesterday\n",
              "2010-06-01        27  20.303335        16  301.078517        20.303335\n",
              "2010-06-02        26  20.750338        13    2.177735        20.303335\n",
              "2010-06-03        64  21.064024        14    1.500404        20.750338\n",
              "2010-06-04        18  20.224915        15   -4.065132        21.064024\n",
              "2010-06-05         3  20.224915         5    0.000000        20.224915"
            ]
          },
          "metadata": {
            "tags": []
          }
        }
      ]
    },
    {
      "cell_type": "markdown",
      "metadata": {
        "id": "0wT43bz4rBHS"
      },
      "source": [
        "#### Visualizing Regression Prediction"
      ]
    },
    {
      "cell_type": "code",
      "metadata": {
        "colab": {
          "base_uri": "https://localhost:8080/",
          "height": 470
        },
        "id": "asY_goI3ogVu",
        "outputId": "d6fd7f0e-1c60-43de-a4c0-e6380be37584"
      },
      "source": [
        "reg = LinearRegression().fit(X_train, y_train)\n",
        "y_pred=reg.predict(X_test)\n",
        "\n",
        "# Converting normal prediction array into a series where index is date.\n",
        "y_pred_series = pd.Series(y_pred, index=y_test.index)\n",
        "\n",
        "plt.figure(figsize=(12,5), dpi=100)\n",
        "plt.plot(y_train, label='training')\n",
        "plt.plot(y_test, color = 'blue', label='Actual Stock Price')\n",
        "plt.plot(y_pred_series, color = 'orange',label='Predicted Stock Price')\n",
        "plt.title('MSFT Stock Price Prediction')\n",
        "plt.xlabel('Time')\n",
        "plt.ylabel('Actual Stock Price')\n",
        "plt.legend(loc='upper left', fontsize=8)\n",
        "plt.show()"
      ],
      "execution_count": null,
      "outputs": [
        {
          "output_type": "display_data",
          "data": {
            "image/png": "[encoded data removed]",
            "text/plain": [
              "<Figure size 1200x500 with 1 Axes>"
            ]
          },
          "metadata": {
            "tags": [],
            "needs_background": "light"
          }
        }
      ]
    },
    {
      "cell_type": "markdown",
      "metadata": {
        "id": "hrci3LyBpyjM"
      },
      "source": [
        "#### RMSE Computation for Linear Regression"
      ]
    },
    {
      "cell_type": "code",
      "metadata": {
        "colab": {
          "base_uri": "https://localhost:8080/"
        },
        "id": "JKwwnAN9p1Nz",
        "outputId": "01e9ef5b-85ff-4894-d9ee-9e562b9d1f05"
      },
      "source": [
        "mse = math.sqrt(mean_squared_error(y_test,y_pred))\n",
        "print(\"[RMSE] Root Mean Squared Error =\", mse)"
      ],
      "execution_count": null,
      "outputs": [
        {
          "output_type": "stream",
          "text": [
            "[RMSE] Root Mean Squared Error = 0.23642967897987452\n"
          ],
          "name": "stdout"
        }
      ]
    }
  ]
}